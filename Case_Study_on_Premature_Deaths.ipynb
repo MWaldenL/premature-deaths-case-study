{
 "cells": [
  {
   "cell_type": "markdown",
   "metadata": {
    "id": "J43LW2WA0pSA"
   },
   "source": [
    "# **Case Study on Premature Deaths and the Human Development Index**"
   ]
  },
  {
   "cell_type": "markdown",
   "metadata": {
    "id": "9l0jxDGXzkpc"
   },
   "source": [
    "# **I. Data Description**"
   ]
  },
  {
   "cell_type": "markdown",
   "metadata": {
    "id": "ssgEBrEAlkXY"
   },
   "source": [
    "[Our World in Data](https://ourworldindata.org/) is an online publication of the world's biggest problems such as hunger, poverty, and climate change. The publication is maintained by a team based at the University of Oxford with the goal of providing an accessible and public source of data for everyone to gain knowledge of. Moreover, the research they publish are cited from various scholars across the globe. For this case study, the proponents chose two different datasets from the same publication.\n",
    "\n"
   ]
  },
  {
   "cell_type": "markdown",
   "metadata": {
    "id": "Fx-iUlpQV88c"
   },
   "source": [
    "The [Premature Deaths dataset](https://ourworldindata.org/alcohol-consumption#alcohol-is-responsible-for-2-8-million-premature-deaths-each-year) contains a yearly death toll from different causes of premature death countries experienced from years 1990 to 2017. The overall dataset was compiled from different, individual datasets focusing on a single cause of death across countries from 1990 to 2017. All these individual datasets were obtained from the [Global Health Data Exchange](http://ghdx.healthdata.org/).\n",
    "\n",
    "The Premature Deaths Dataset contains the following variables:\n",
    "\n",
    "- **`Entity`**: name of country.\n",
    "- **`Code`**:\tcountry code.\n",
    "- **`Year`**:\tyear of estimated premature death count.\n",
    "- **`Unsafe water source (deaths)`**: number of deaths caused by unsafe water source\n",
    "- **`Poor sanitation (deaths)`**: number of deaths caused by poor sanitation\n",
    "- **`No access to handwashing facility (deaths)`**: number of deaths caused by no access to handwashing facility\n",
    "- **`Indoor air pollution (deaths)`**: number of deaths caused by indoor air pollution\n",
    "- **`Non-exclusive breastfeeding (deaths)`**: number of deaths caused by non-exclusive breastfeeding\n",
    "- **`Discontinued breastfeeding (deaths)`**: number of deaths caused by discontinued breastfeeding\n",
    "- **`Child wasting (deaths)`**: number of deaths caused by child wasting\n",
    "- **`Child stunting (deaths)`**: number of deaths caused by child stunting\n",
    "- **`Low birth weight (deaths)`**: number of deaths caused by low birth weight\n",
    "- **`Secondhand smoke (deaths)`**: number of deaths caused by scondhand smoke\n",
    "- **`Alcohol use (deaths)`**: number of deaths caused by alcohol use\n",
    "- **`Drug use (deaths)`**: number of deaths caused by drug use\n",
    "- **`Diet low in fruits (deaths)`**: number of deaths caused by diet low in fruits\n",
    "- **`Diet low in vegetables (deaths)`**: number of deaths caused by diet low in vegetables\n",
    "- **`Unsafe sex (deaths)`**: number of deaths caused by unsafe sex\n",
    "- **`Low physical activity (deaths)`**: number of deaths caused by low physical activity\n",
    "- **`High blood sugar (deaths)`**: number of deaths caused by high blood sugar\n",
    "- **`High cholesterol (deaths)`**: number of deaths caused by high cholesterol\n",
    "- **`Obesity (deaths)`**: number of deaths caused by obesity\n",
    "- **`High blood pressure (deaths)`**: number of deaths caused by high blood pressure\n",
    "- **`Smoking (deaths)`**: number of deaths caused by smoking\n",
    "- **`Iron deficiency (deaths)`**: number of deaths caused by iron deficiency\n",
    "- **`Zinc deficiency (deaths)`**: number of deaths caused by zinc deficiency\n",
    "- **`Vitamin-A deficiency (deaths)`**: number of deaths caused by vitamin-A deficiency\n",
    "- **`Low bone mineral density (deaths)`**: number of deaths caused by low bone mineral density\n",
    "- **`Air pollution (outdoor & indoor) (deaths)`**: number of deaths caused by air pollution\n",
    "- **`Outdoor air pollution (deaths)`**: number of deaths caused by outdoor air pollution\n",
    "- **`Diet low in fiber (deaths)`**: number of deaths caused by diet low in fiber\n",
    "- **`Diet high in sodium (deaths)`**: number of deaths caused by diet high in sodium\n",
    "- **`Diet low in legumes (deaths)`**: number of deaths caused by diet low in legumes\n",
    "- **`Diet low in calcium (deaths)`**: number of deaths caused by diet low in calcium\n",
    "- **`Diet high in red meat (deaths)`**: number of deaths caused by diet high in red meat\n",
    "- **`Diet low in whole grains (deaths)`**: number of deaths caused by diet low in whole grains\n",
    "- **`Diet low in nuts and seeds (deaths)`**: number of deaths caused by diet low in nuts and seeds\n",
    "- **`Diet low in seafood omega-3 fatty acids (deaths)`**: number of deaths caused by diet low in seafood omega-3 fatty acids"
   ]
  },
  {
   "cell_type": "markdown",
   "metadata": {
    "id": "qXdu16u9WB1u"
   },
   "source": [
    "On the other hand, the [Human Development Index dataset](https://ourworldindata.org/grapher/human-development-index) contains the human developmen indices of every country from years 1980 to 2017. The Human Development Index, or HDI, is a metric used to numerically determine the human development of a given country using four indicators, namely, life expectancy at birth in years, expected years of schooling, mean years of schooling, and gross national income per capita in US dollars. The computed HDI ranges from 0 to 1. There are four categories, namely, “Very High Human Development”, “High human development”, “Medium Human Development”, and “Low Human Development”.  Shown below is a table defining their corresponding HDI ranges as of 2014. \n",
    "\n",
    "Development Level | HDI Value\n",
    "--- | ---\n",
    "Very high human development | 0.800 and above\n",
    "High human development | 0.700 – 0.799\n",
    "Medium human development | 0.550 – 0.699\n",
    "Low human development | Below 0.550\n",
    "\n",
    "The HDI Dataset contains the following variables:\n",
    "\n",
    "- **`Entity`**: name of country.\n",
    "- **`Code`**:\tcountry code.\n",
    "- **`Year`**:\tyear of country HDI rating.\n",
    "- **`HDI`**:\thuman development index."
   ]
  },
  {
   "cell_type": "markdown",
   "metadata": {
    "id": "mUBFYXfHWFjc"
   },
   "source": [
    "For this case study, we are combining both datasets to have a new dataset which contains data across different causes of death and the HDI value in each country in a specific year. With this new dataset, it is now possible to perform comparisons and  inferences on the leading causes of premature deaths in different socio-economic classes of countries in a given timeframe. We can also investigate how a specific country’s death toll changes over time given a specific cause of premature deaths. "
   ]
  },
  {
   "cell_type": "markdown",
   "metadata": {
    "id": "IjP6xY7ZxcTE"
   },
   "source": [
    "# **II. Exploratory Data Analysis**"
   ]
  },
  {
   "cell_type": "markdown",
   "metadata": {
    "id": "NuGrtAIS_-hq"
   },
   "source": [
    "## **A. Imports**\n"
   ]
  },
  {
   "cell_type": "code",
   "execution_count": 1,
   "metadata": {
    "id": "fuvpZSDR9Xpj"
   },
   "outputs": [],
   "source": [
    "import pandas as pd\n",
    "import numpy as np\n",
    "import matplotlib.pyplot as plt"
   ]
  },
  {
   "cell_type": "markdown",
   "metadata": {
    "id": "50Mbv4jv_-rf"
   },
   "source": [
    "## **B. Loading the Datasets**"
   ]
  },
  {
   "cell_type": "markdown",
   "metadata": {
    "id": "9lQJYOzG6t3u"
   },
   "source": [
    "In this notebook, two datasets are used. The first dataset, `premature-deaths.csv`, contains the total number of premature deaths by risk factor from the years 1990 to 2017. The second dataset, `human-development-index.csv`, contains the human development indices of every country from the years 1980 to 2017. These two datasets will be used to answer the research questions in the next sections. These files are read using the *Pandas* library and are stored in separate DataFrames."
   ]
  },
  {
   "cell_type": "code",
   "execution_count": 2,
   "metadata": {
    "id": "tL-7Yxd56zAw"
   },
   "outputs": [],
   "source": [
    "deaths_df = pd.read_csv(\"premature-deaths.csv\")\n",
    "hdi_df = pd.read_csv(\"human-development-index.csv\")"
   ]
  },
  {
   "cell_type": "markdown",
   "metadata": {
    "id": "iVeNjl386t5-"
   },
   "source": [
    "## **C. Data Preprocessing and Cleaning**"
   ]
  },
  {
   "cell_type": "markdown",
   "metadata": {
    "id": "v7mh3l6v6t89"
   },
   "source": [
    "### **Premature Deaths Dataset**"
   ]
  },
  {
   "cell_type": "markdown",
   "metadata": {
    "id": "yHKq6YWF6uAJ"
   },
   "source": [
    "Exploratory data analysis entails data cleaning, validation, and visualization to gain better understanding on the data. A summarized information about the `premature-deaths` dataset is shown below."
   ]
  },
  {
   "cell_type": "code",
   "execution_count": 3,
   "metadata": {
    "colab": {
     "base_uri": "https://localhost:8080/",
     "height": 782
    },
    "id": "WOyVJxM57H9e",
    "outputId": "f00edf0d-d292-490e-b422-2e56737c9e62"
   },
   "outputs": [
    {
     "name": "stdout",
     "output_type": "stream",
     "text": [
      "<class 'pandas.core.frame.DataFrame'>\n",
      "RangeIndex: 6468 entries, 0 to 6467\n",
      "Data columns (total 38 columns):\n",
      " #   Column                                            Non-Null Count  Dtype  \n",
      "---  ------                                            --------------  -----  \n",
      " 0   Entity                                            6468 non-null   object \n",
      " 1   Code                                              5488 non-null   object \n",
      " 2   Year                                              6468 non-null   int64  \n",
      " 3   Unsafe water source (deaths)                      6468 non-null   float64\n",
      " 4   Poor sanitation (deaths)                          6468 non-null   float64\n",
      " 5   No access to handwashing facility (deaths)        6468 non-null   float64\n",
      " 6   Indoor air pollution (deaths)                     6468 non-null   float64\n",
      " 7   Non-exclusive breastfeeding (deaths)              6468 non-null   float64\n",
      " 8   Discontinued breastfeeding (deaths)               6468 non-null   float64\n",
      " 9   Child wasting (deaths)                            6468 non-null   float64\n",
      " 10  Child stunting (deaths)                           6468 non-null   float64\n",
      " 11  Low birth weight (deaths)                         6468 non-null   float64\n",
      " 12  Secondhand smoke (deaths)                         6468 non-null   float64\n",
      " 13  Alcohol use (deaths)                              6468 non-null   float64\n",
      " 14  Drug use (deaths)                                 6468 non-null   float64\n",
      " 15  Diet low in fruits (deaths)                       6468 non-null   float64\n",
      " 16  Diet low in vegetables (deaths)                   6468 non-null   float64\n",
      " 17  Unsafe sex (deaths)                               6468 non-null   float64\n",
      " 18  Low physical activity (deaths)                    6468 non-null   float64\n",
      " 19  High blood sugar (deaths)                         6468 non-null   float64\n",
      " 20  High cholesterol (deaths)                         1561 non-null   float64\n",
      " 21  Obesity (deaths)                                  6468 non-null   float64\n",
      " 22  High blood pressure (deaths)                      6468 non-null   float64\n",
      " 23  Smoking (deaths)                                  6468 non-null   float64\n",
      " 24  Iron deficiency (deaths)                          6468 non-null   float64\n",
      " 25  Zinc deficiency (deaths)                          6468 non-null   float64\n",
      " 26  Vitamin-A deficiency (deaths)                     6468 non-null   float64\n",
      " 27  Low bone mineral density (deaths)                 6468 non-null   float64\n",
      " 28  Air pollution (outdoor & indoor) (deaths)         6468 non-null   float64\n",
      " 29  Outdoor air pollution (deaths)                    6467 non-null   float64\n",
      " 30  Diet low in fiber (deaths)                        6468 non-null   float64\n",
      " 31  Diet high in sodium (deaths)                      6468 non-null   float64\n",
      " 32  Diet low in legumes (deaths)                      6468 non-null   float64\n",
      " 33  Diet low in calcium (deaths)                      6468 non-null   float64\n",
      " 34  Diet high in red meat (deaths)                    6468 non-null   float64\n",
      " 35  Diet low in whole grains (deaths)                 6468 non-null   float64\n",
      " 36  Diet low in nuts and seeds (deaths)               6468 non-null   float64\n",
      " 37  Diet low in seafood omega-3 fatty acids (deaths)  6468 non-null   float64\n",
      "dtypes: float64(35), int64(1), object(2)\n",
      "memory usage: 1.9+ MB\n"
     ]
    }
   ],
   "source": [
    "deaths_df.info()"
   ]
  },
  {
   "cell_type": "markdown",
   "metadata": {
    "id": "aMX36gBF6uCw"
   },
   "source": [
    "The dataset contains 6468 entries, with each entry representing a country in a specified year. The next columns describe the nature of the cause of death, which are populated with floating point (`float64`) numbers. The values are not the actual numbers, but they are estimates based on a ranged of risk factors. According to Our World in Data, the consolidated data is sourced from the [Institute for Mental Health Metrics and Evaluation](http://www.healthdata.org/research-article/global-regional-and-national-comparative-risk-assessment-84-behavioral-0). \n",
    "\n",
    "Most of the columns do not contain null values. However, the `High Cholesterol (deaths)` column only contains 1561 non-null values, which are substantially less than the total number of entries. For this project, the said column will be removed in the next sections because it may negatively affect the results of the analysis.\n",
    "\n",
    "The first five observations of the dataset are displayed below."
   ]
  },
  {
   "cell_type": "code",
   "execution_count": 4,
   "metadata": {
    "colab": {
     "base_uri": "https://localhost:8080/",
     "height": 326
    },
    "id": "XYYBRQZy7NHP",
    "outputId": "7878fd04-0d44-4473-9fb7-1cb514d97ba5"
   },
   "outputs": [
    {
     "data": {
      "text/html": [
       "<div>\n",
       "<style scoped>\n",
       "    .dataframe tbody tr th:only-of-type {\n",
       "        vertical-align: middle;\n",
       "    }\n",
       "\n",
       "    .dataframe tbody tr th {\n",
       "        vertical-align: top;\n",
       "    }\n",
       "\n",
       "    .dataframe thead th {\n",
       "        text-align: right;\n",
       "    }\n",
       "</style>\n",
       "<table border=\"1\" class=\"dataframe\">\n",
       "  <thead>\n",
       "    <tr style=\"text-align: right;\">\n",
       "      <th></th>\n",
       "      <th>Entity</th>\n",
       "      <th>Code</th>\n",
       "      <th>Year</th>\n",
       "      <th>Unsafe water source (deaths)</th>\n",
       "      <th>Poor sanitation (deaths)</th>\n",
       "      <th>No access to handwashing facility (deaths)</th>\n",
       "      <th>Indoor air pollution (deaths)</th>\n",
       "      <th>Non-exclusive breastfeeding (deaths)</th>\n",
       "      <th>Discontinued breastfeeding (deaths)</th>\n",
       "      <th>Child wasting (deaths)</th>\n",
       "      <th>...</th>\n",
       "      <th>Air pollution (outdoor &amp; indoor) (deaths)</th>\n",
       "      <th>Outdoor air pollution (deaths)</th>\n",
       "      <th>Diet low in fiber (deaths)</th>\n",
       "      <th>Diet high in sodium (deaths)</th>\n",
       "      <th>Diet low in legumes (deaths)</th>\n",
       "      <th>Diet low in calcium (deaths)</th>\n",
       "      <th>Diet high in red meat (deaths)</th>\n",
       "      <th>Diet low in whole grains (deaths)</th>\n",
       "      <th>Diet low in nuts and seeds (deaths)</th>\n",
       "      <th>Diet low in seafood omega-3 fatty acids (deaths)</th>\n",
       "    </tr>\n",
       "  </thead>\n",
       "  <tbody>\n",
       "    <tr>\n",
       "      <th>0</th>\n",
       "      <td>Afghanistan</td>\n",
       "      <td>AFG</td>\n",
       "      <td>1990</td>\n",
       "      <td>7554.049543</td>\n",
       "      <td>5887.747628</td>\n",
       "      <td>5412.314513</td>\n",
       "      <td>22388.497233</td>\n",
       "      <td>3221.138842</td>\n",
       "      <td>156.097553</td>\n",
       "      <td>22778.849249</td>\n",
       "      <td>...</td>\n",
       "      <td>26598.006727</td>\n",
       "      <td>4383.83</td>\n",
       "      <td>2864.234512</td>\n",
       "      <td>2737.197934</td>\n",
       "      <td>3418.965194</td>\n",
       "      <td>181.287701</td>\n",
       "      <td>0.220484</td>\n",
       "      <td>11381.377345</td>\n",
       "      <td>7299.867330</td>\n",
       "      <td>6456.565238</td>\n",
       "    </tr>\n",
       "    <tr>\n",
       "      <th>1</th>\n",
       "      <td>Afghanistan</td>\n",
       "      <td>AFG</td>\n",
       "      <td>1991</td>\n",
       "      <td>7359.676749</td>\n",
       "      <td>5732.770160</td>\n",
       "      <td>5287.891103</td>\n",
       "      <td>22128.758206</td>\n",
       "      <td>3150.559597</td>\n",
       "      <td>151.539851</td>\n",
       "      <td>22292.691113</td>\n",
       "      <td>...</td>\n",
       "      <td>26379.532218</td>\n",
       "      <td>4426.36</td>\n",
       "      <td>2974.479775</td>\n",
       "      <td>2741.184956</td>\n",
       "      <td>3457.398250</td>\n",
       "      <td>184.251584</td>\n",
       "      <td>0.184714</td>\n",
       "      <td>11487.832390</td>\n",
       "      <td>7386.764303</td>\n",
       "      <td>6511.344276</td>\n",
       "    </tr>\n",
       "    <tr>\n",
       "      <th>2</th>\n",
       "      <td>Afghanistan</td>\n",
       "      <td>AFG</td>\n",
       "      <td>1992</td>\n",
       "      <td>7650.437822</td>\n",
       "      <td>5954.804987</td>\n",
       "      <td>5506.657363</td>\n",
       "      <td>22873.768789</td>\n",
       "      <td>3331.349048</td>\n",
       "      <td>156.609194</td>\n",
       "      <td>23102.197940</td>\n",
       "      <td>...</td>\n",
       "      <td>27263.127914</td>\n",
       "      <td>4568.91</td>\n",
       "      <td>3168.591633</td>\n",
       "      <td>2798.560245</td>\n",
       "      <td>3586.490291</td>\n",
       "      <td>191.318450</td>\n",
       "      <td>0.151354</td>\n",
       "      <td>11866.235572</td>\n",
       "      <td>7640.628526</td>\n",
       "      <td>6703.095594</td>\n",
       "    </tr>\n",
       "    <tr>\n",
       "      <th>3</th>\n",
       "      <td>Afghanistan</td>\n",
       "      <td>AFG</td>\n",
       "      <td>1993</td>\n",
       "      <td>10270.731383</td>\n",
       "      <td>7986.736613</td>\n",
       "      <td>7104.620351</td>\n",
       "      <td>25599.756284</td>\n",
       "      <td>4477.006100</td>\n",
       "      <td>206.834451</td>\n",
       "      <td>27902.669960</td>\n",
       "      <td>...</td>\n",
       "      <td>30495.561499</td>\n",
       "      <td>5080.29</td>\n",
       "      <td>3401.045056</td>\n",
       "      <td>2853.301679</td>\n",
       "      <td>3746.266658</td>\n",
       "      <td>199.767293</td>\n",
       "      <td>0.109392</td>\n",
       "      <td>12335.961682</td>\n",
       "      <td>7968.311853</td>\n",
       "      <td>6946.196824</td>\n",
       "    </tr>\n",
       "    <tr>\n",
       "      <th>4</th>\n",
       "      <td>Afghanistan</td>\n",
       "      <td>AFG</td>\n",
       "      <td>1994</td>\n",
       "      <td>11409.177112</td>\n",
       "      <td>8863.010065</td>\n",
       "      <td>8051.515953</td>\n",
       "      <td>28013.167200</td>\n",
       "      <td>5102.622054</td>\n",
       "      <td>233.930571</td>\n",
       "      <td>32929.005932</td>\n",
       "      <td>...</td>\n",
       "      <td>33323.161401</td>\n",
       "      <td>5499.23</td>\n",
       "      <td>3599.709735</td>\n",
       "      <td>2880.025765</td>\n",
       "      <td>3869.288402</td>\n",
       "      <td>206.619714</td>\n",
       "      <td>0.059103</td>\n",
       "      <td>12672.950191</td>\n",
       "      <td>8244.368430</td>\n",
       "      <td>7138.030745</td>\n",
       "    </tr>\n",
       "  </tbody>\n",
       "</table>\n",
       "<p>5 rows × 38 columns</p>\n",
       "</div>"
      ],
      "text/plain": [
       "        Entity Code  Year  Unsafe water source (deaths)  \\\n",
       "0  Afghanistan  AFG  1990                   7554.049543   \n",
       "1  Afghanistan  AFG  1991                   7359.676749   \n",
       "2  Afghanistan  AFG  1992                   7650.437822   \n",
       "3  Afghanistan  AFG  1993                  10270.731383   \n",
       "4  Afghanistan  AFG  1994                  11409.177112   \n",
       "\n",
       "   Poor sanitation (deaths)  No access to handwashing facility (deaths)  \\\n",
       "0               5887.747628                                 5412.314513   \n",
       "1               5732.770160                                 5287.891103   \n",
       "2               5954.804987                                 5506.657363   \n",
       "3               7986.736613                                 7104.620351   \n",
       "4               8863.010065                                 8051.515953   \n",
       "\n",
       "   Indoor air pollution (deaths)  Non-exclusive breastfeeding (deaths)  \\\n",
       "0                   22388.497233                           3221.138842   \n",
       "1                   22128.758206                           3150.559597   \n",
       "2                   22873.768789                           3331.349048   \n",
       "3                   25599.756284                           4477.006100   \n",
       "4                   28013.167200                           5102.622054   \n",
       "\n",
       "   Discontinued breastfeeding (deaths)  Child wasting (deaths)  ...  \\\n",
       "0                           156.097553            22778.849249  ...   \n",
       "1                           151.539851            22292.691113  ...   \n",
       "2                           156.609194            23102.197940  ...   \n",
       "3                           206.834451            27902.669960  ...   \n",
       "4                           233.930571            32929.005932  ...   \n",
       "\n",
       "   Air pollution (outdoor & indoor) (deaths)  Outdoor air pollution (deaths)  \\\n",
       "0                               26598.006727                         4383.83   \n",
       "1                               26379.532218                         4426.36   \n",
       "2                               27263.127914                         4568.91   \n",
       "3                               30495.561499                         5080.29   \n",
       "4                               33323.161401                         5499.23   \n",
       "\n",
       "   Diet low in fiber (deaths)  Diet high in sodium (deaths)  \\\n",
       "0                 2864.234512                   2737.197934   \n",
       "1                 2974.479775                   2741.184956   \n",
       "2                 3168.591633                   2798.560245   \n",
       "3                 3401.045056                   2853.301679   \n",
       "4                 3599.709735                   2880.025765   \n",
       "\n",
       "   Diet low in legumes (deaths)  Diet low in calcium (deaths)  \\\n",
       "0                   3418.965194                    181.287701   \n",
       "1                   3457.398250                    184.251584   \n",
       "2                   3586.490291                    191.318450   \n",
       "3                   3746.266658                    199.767293   \n",
       "4                   3869.288402                    206.619714   \n",
       "\n",
       "   Diet high in red meat (deaths)  Diet low in whole grains (deaths)  \\\n",
       "0                        0.220484                       11381.377345   \n",
       "1                        0.184714                       11487.832390   \n",
       "2                        0.151354                       11866.235572   \n",
       "3                        0.109392                       12335.961682   \n",
       "4                        0.059103                       12672.950191   \n",
       "\n",
       "   Diet low in nuts and seeds (deaths)  \\\n",
       "0                          7299.867330   \n",
       "1                          7386.764303   \n",
       "2                          7640.628526   \n",
       "3                          7968.311853   \n",
       "4                          8244.368430   \n",
       "\n",
       "   Diet low in seafood omega-3 fatty acids (deaths)  \n",
       "0                                       6456.565238  \n",
       "1                                       6511.344276  \n",
       "2                                       6703.095594  \n",
       "3                                       6946.196824  \n",
       "4                                       7138.030745  \n",
       "\n",
       "[5 rows x 38 columns]"
      ]
     },
     "execution_count": 4,
     "metadata": {},
     "output_type": "execute_result"
    }
   ],
   "source": [
    "deaths_df.head()"
   ]
  },
  {
   "cell_type": "markdown",
   "metadata": {
    "id": "bpQb8zCf7FrQ"
   },
   "source": [
    "The next lines of code preprocess the data by removing unnecessary columns and renaming the column header `Entity` to `Country`. The `High cholesterol (deaths)` column is removed due to insufficient data on majority of the observations."
   ]
  },
  {
   "cell_type": "code",
   "execution_count": 5,
   "metadata": {
    "colab": {
     "base_uri": "https://localhost:8080/",
     "height": 748
    },
    "id": "g_VnLd997Xh3",
    "outputId": "c5b298db-c122-4855-f748-6a7a83371e24"
   },
   "outputs": [
    {
     "name": "stdout",
     "output_type": "stream",
     "text": [
      "<class 'pandas.core.frame.DataFrame'>\n",
      "RangeIndex: 6468 entries, 0 to 6467\n",
      "Data columns (total 36 columns):\n",
      " #   Column                                            Non-Null Count  Dtype  \n",
      "---  ------                                            --------------  -----  \n",
      " 0   Country                                           6468 non-null   object \n",
      " 1   Year                                              6468 non-null   int64  \n",
      " 2   Unsafe water source (deaths)                      6468 non-null   float64\n",
      " 3   Poor sanitation (deaths)                          6468 non-null   float64\n",
      " 4   No access to handwashing facility (deaths)        6468 non-null   float64\n",
      " 5   Indoor air pollution (deaths)                     6468 non-null   float64\n",
      " 6   Non-exclusive breastfeeding (deaths)              6468 non-null   float64\n",
      " 7   Discontinued breastfeeding (deaths)               6468 non-null   float64\n",
      " 8   Child wasting (deaths)                            6468 non-null   float64\n",
      " 9   Child stunting (deaths)                           6468 non-null   float64\n",
      " 10  Low birth weight (deaths)                         6468 non-null   float64\n",
      " 11  Secondhand smoke (deaths)                         6468 non-null   float64\n",
      " 12  Alcohol use (deaths)                              6468 non-null   float64\n",
      " 13  Drug use (deaths)                                 6468 non-null   float64\n",
      " 14  Diet low in fruits (deaths)                       6468 non-null   float64\n",
      " 15  Diet low in vegetables (deaths)                   6468 non-null   float64\n",
      " 16  Unsafe sex (deaths)                               6468 non-null   float64\n",
      " 17  Low physical activity (deaths)                    6468 non-null   float64\n",
      " 18  High blood sugar (deaths)                         6468 non-null   float64\n",
      " 19  Obesity (deaths)                                  6468 non-null   float64\n",
      " 20  High blood pressure (deaths)                      6468 non-null   float64\n",
      " 21  Smoking (deaths)                                  6468 non-null   float64\n",
      " 22  Iron deficiency (deaths)                          6468 non-null   float64\n",
      " 23  Zinc deficiency (deaths)                          6468 non-null   float64\n",
      " 24  Vitamin-A deficiency (deaths)                     6468 non-null   float64\n",
      " 25  Low bone mineral density (deaths)                 6468 non-null   float64\n",
      " 26  Air pollution (outdoor & indoor) (deaths)         6468 non-null   float64\n",
      " 27  Outdoor air pollution (deaths)                    6467 non-null   float64\n",
      " 28  Diet low in fiber (deaths)                        6468 non-null   float64\n",
      " 29  Diet high in sodium (deaths)                      6468 non-null   float64\n",
      " 30  Diet low in legumes (deaths)                      6468 non-null   float64\n",
      " 31  Diet low in calcium (deaths)                      6468 non-null   float64\n",
      " 32  Diet high in red meat (deaths)                    6468 non-null   float64\n",
      " 33  Diet low in whole grains (deaths)                 6468 non-null   float64\n",
      " 34  Diet low in nuts and seeds (deaths)               6468 non-null   float64\n",
      " 35  Diet low in seafood omega-3 fatty acids (deaths)  6468 non-null   float64\n",
      "dtypes: float64(34), int64(1), object(1)\n",
      "memory usage: 1.8+ MB\n"
     ]
    }
   ],
   "source": [
    "deaths_df = deaths_df.drop(['Code', 'High cholesterol (deaths)'], axis=1)\n",
    "deaths_df = deaths_df.rename({'Entity': 'Country'}, axis=1)\n",
    "deaths_df.info()"
   ]
  },
  {
   "cell_type": "markdown",
   "metadata": {
    "id": "fpLhlt0C7FwV"
   },
   "source": [
    "After removing the `High cholesterol (deaths)` column, only a single null value is present in the dataset. This value is found at the `Outdoor air pollution (deaths)` column. Since there is only one observation with a null value, this observation can be removed from the dataset. The next line of code results to one less than the total number of observations in the original dataset since the observation with a null value is removed."
   ]
  },
  {
   "cell_type": "code",
   "execution_count": 6,
   "metadata": {
    "id": "oV7L2tza7wqd"
   },
   "outputs": [],
   "source": [
    "deaths_df = deaths_df.dropna(subset=['Outdoor air pollution (deaths)'])"
   ]
  },
  {
   "cell_type": "markdown",
   "metadata": {
    "id": "jWst04-j7FzG"
   },
   "source": [
    "### **Human Development Index Dataset**"
   ]
  },
  {
   "cell_type": "markdown",
   "metadata": {
    "id": "_5TDDY8z7F2B"
   },
   "source": [
    "A summarized information about the `human-development-index` dataset is shown below. The `Human Development Index (UNDP)` column holds floating point values between 0 and 1.\n"
   ]
  },
  {
   "cell_type": "code",
   "execution_count": 7,
   "metadata": {
    "colab": {
     "base_uri": "https://localhost:8080/",
     "height": 204
    },
    "id": "M7mncMqr72Qj",
    "outputId": "b2697db2-2f10-49d9-dbba-1d159abaab3e"
   },
   "outputs": [
    {
     "name": "stdout",
     "output_type": "stream",
     "text": [
      "<class 'pandas.core.frame.DataFrame'>\n",
      "RangeIndex: 5001 entries, 0 to 5000\n",
      "Data columns (total 4 columns):\n",
      " #   Column                          Non-Null Count  Dtype  \n",
      "---  ------                          --------------  -----  \n",
      " 0   Entity                          5001 non-null   object \n",
      " 1   Code                            4973 non-null   object \n",
      " 2   Year                            5001 non-null   int64  \n",
      " 3   Human Development Index (UNDP)  5001 non-null   float64\n",
      "dtypes: float64(1), int64(1), object(2)\n",
      "memory usage: 156.4+ KB\n"
     ]
    }
   ],
   "source": [
    "hdi_df.info()"
   ]
  },
  {
   "cell_type": "code",
   "execution_count": 8,
   "metadata": {
    "colab": {
     "base_uri": "https://localhost:8080/",
     "height": 365
    },
    "id": "unbhp0vt74Yn",
    "outputId": "353f3b89-8bf0-4daf-a861-04f821e4b6b6"
   },
   "outputs": [
    {
     "data": {
      "image/png": "[encoded data removed]",
      "text/plain": [
       "<Figure size 1080x360 with 1 Axes>"
      ]
     },
     "metadata": {
      "needs_background": "light"
     },
     "output_type": "display_data"
    }
   ],
   "source": [
    "hdi_df.groupby('Year').agg({'Entity': ['count']})['Entity'].plot(kind='bar', figsize=(15,5))\n",
    "plt.title('Documented Countries Per Year in the HDI Dataset')\n",
    "plt.ylabel('Number of countries documented')\n",
    "plt.show()"
   ]
  },
  {
   "cell_type": "markdown",
   "metadata": {
    "id": "q4VVjTBY7F4d"
   },
   "source": [
    "This dataset does not account the HDIs of every country in every single year. The HDIs for some years are not documented. Questions that revolve around the dataset are answered using the available data.\n",
    "\n",
    "Similar to the first dataset, the next lines of code preprocess the data by removing the unnecessary column `Code` and renaming the columns `Entity` to `Country` and `Human Development Index (UNDP)` to `HDI`."
   ]
  },
  {
   "cell_type": "code",
   "execution_count": 9,
   "metadata": {
    "colab": {
     "base_uri": "https://localhost:8080/",
     "height": 204
    },
    "id": "LluEJovH88m3",
    "outputId": "3644f27e-0343-4fae-cb04-27cd211ba882"
   },
   "outputs": [
    {
     "data": {
      "text/html": [
       "<div>\n",
       "<style scoped>\n",
       "    .dataframe tbody tr th:only-of-type {\n",
       "        vertical-align: middle;\n",
       "    }\n",
       "\n",
       "    .dataframe tbody tr th {\n",
       "        vertical-align: top;\n",
       "    }\n",
       "\n",
       "    .dataframe thead th {\n",
       "        text-align: right;\n",
       "    }\n",
       "</style>\n",
       "<table border=\"1\" class=\"dataframe\">\n",
       "  <thead>\n",
       "    <tr style=\"text-align: right;\">\n",
       "      <th></th>\n",
       "      <th>Country</th>\n",
       "      <th>Year</th>\n",
       "      <th>HDI</th>\n",
       "    </tr>\n",
       "  </thead>\n",
       "  <tbody>\n",
       "    <tr>\n",
       "      <th>0</th>\n",
       "      <td>Afghanistan</td>\n",
       "      <td>1980</td>\n",
       "      <td>0.228</td>\n",
       "    </tr>\n",
       "    <tr>\n",
       "      <th>1</th>\n",
       "      <td>Afghanistan</td>\n",
       "      <td>1985</td>\n",
       "      <td>0.273</td>\n",
       "    </tr>\n",
       "    <tr>\n",
       "      <th>2</th>\n",
       "      <td>Afghanistan</td>\n",
       "      <td>2002</td>\n",
       "      <td>0.373</td>\n",
       "    </tr>\n",
       "    <tr>\n",
       "      <th>3</th>\n",
       "      <td>Afghanistan</td>\n",
       "      <td>2003</td>\n",
       "      <td>0.383</td>\n",
       "    </tr>\n",
       "    <tr>\n",
       "      <th>4</th>\n",
       "      <td>Afghanistan</td>\n",
       "      <td>2004</td>\n",
       "      <td>0.398</td>\n",
       "    </tr>\n",
       "  </tbody>\n",
       "</table>\n",
       "</div>"
      ],
      "text/plain": [
       "       Country  Year    HDI\n",
       "0  Afghanistan  1980  0.228\n",
       "1  Afghanistan  1985  0.273\n",
       "2  Afghanistan  2002  0.373\n",
       "3  Afghanistan  2003  0.383\n",
       "4  Afghanistan  2004  0.398"
      ]
     },
     "execution_count": 9,
     "metadata": {},
     "output_type": "execute_result"
    }
   ],
   "source": [
    "hdi_df = hdi_df.drop('Code', axis=1)\n",
    "hdi_df = hdi_df.rename({'Entity': 'Country', 'Human Development Index (UNDP)': 'HDI'}, axis=1)\n",
    "hdi_df.head()"
   ]
  },
  {
   "cell_type": "markdown",
   "metadata": {
    "id": "yGdOqISM7F9r"
   },
   "source": [
    "## **D. Exploratory Data Analysis Questions**\n"
   ]
  },
  {
   "cell_type": "markdown",
   "metadata": {
    "id": "s3PbHYRj7GA-"
   },
   "source": [
    "### **1. What year has the most number of premature deaths caused by diet issues worldwide?**"
   ]
  },
  {
   "cell_type": "markdown",
   "metadata": {
    "id": "l6wgQtx07GDg"
   },
   "source": [
    "To answer this question, the term *diet issues* have to be defined first. The dataset shows a number of columns that are closely knitted to problems involving habitual food intake. Excluding `Country` and `Year`, these columns are indicated and stored in the `diet_columns` list. A new DataFrame, `deaths_diet_df`, is created based on these columns.\n"
   ]
  },
  {
   "cell_type": "code",
   "execution_count": 10,
   "metadata": {
    "colab": {
     "base_uri": "https://localhost:8080/",
     "height": 326
    },
    "id": "m5wvy6Bf9His",
    "outputId": "2a389d13-7960-4a7d-b630-21471cd38ba8"
   },
   "outputs": [
    {
     "data": {
      "text/html": [
       "<div>\n",
       "<style scoped>\n",
       "    .dataframe tbody tr th:only-of-type {\n",
       "        vertical-align: middle;\n",
       "    }\n",
       "\n",
       "    .dataframe tbody tr th {\n",
       "        vertical-align: top;\n",
       "    }\n",
       "\n",
       "    .dataframe thead th {\n",
       "        text-align: right;\n",
       "    }\n",
       "</style>\n",
       "<table border=\"1\" class=\"dataframe\">\n",
       "  <thead>\n",
       "    <tr style=\"text-align: right;\">\n",
       "      <th></th>\n",
       "      <th>Country</th>\n",
       "      <th>Year</th>\n",
       "      <th>Diet low in fruits (deaths)</th>\n",
       "      <th>Diet low in vegetables (deaths)</th>\n",
       "      <th>High blood sugar (deaths)</th>\n",
       "      <th>Obesity (deaths)</th>\n",
       "      <th>Iron deficiency (deaths)</th>\n",
       "      <th>Zinc deficiency (deaths)</th>\n",
       "      <th>Vitamin-A deficiency (deaths)</th>\n",
       "      <th>Low bone mineral density (deaths)</th>\n",
       "      <th>Diet low in fiber (deaths)</th>\n",
       "      <th>Diet high in sodium (deaths)</th>\n",
       "      <th>Diet low in legumes (deaths)</th>\n",
       "      <th>Diet low in calcium (deaths)</th>\n",
       "      <th>Diet high in red meat (deaths)</th>\n",
       "      <th>Diet low in whole grains (deaths)</th>\n",
       "      <th>Diet low in nuts and seeds (deaths)</th>\n",
       "      <th>Diet low in seafood omega-3 fatty acids (deaths)</th>\n",
       "    </tr>\n",
       "  </thead>\n",
       "  <tbody>\n",
       "    <tr>\n",
       "      <th>0</th>\n",
       "      <td>Afghanistan</td>\n",
       "      <td>1990</td>\n",
       "      <td>8538.964137</td>\n",
       "      <td>7678.717644</td>\n",
       "      <td>21610.066160</td>\n",
       "      <td>7701.581280</td>\n",
       "      <td>726.431294</td>\n",
       "      <td>501.020704</td>\n",
       "      <td>9344.131952</td>\n",
       "      <td>374.844056</td>\n",
       "      <td>2864.234512</td>\n",
       "      <td>2737.197934</td>\n",
       "      <td>3418.965194</td>\n",
       "      <td>181.287701</td>\n",
       "      <td>0.220484</td>\n",
       "      <td>11381.377345</td>\n",
       "      <td>7299.867330</td>\n",
       "      <td>6456.565238</td>\n",
       "    </tr>\n",
       "    <tr>\n",
       "      <th>1</th>\n",
       "      <td>Afghanistan</td>\n",
       "      <td>1991</td>\n",
       "      <td>8642.847151</td>\n",
       "      <td>7789.773033</td>\n",
       "      <td>21824.938039</td>\n",
       "      <td>7747.774903</td>\n",
       "      <td>739.245799</td>\n",
       "      <td>523.865919</td>\n",
       "      <td>9330.182378</td>\n",
       "      <td>379.854237</td>\n",
       "      <td>2974.479775</td>\n",
       "      <td>2741.184956</td>\n",
       "      <td>3457.398250</td>\n",
       "      <td>184.251584</td>\n",
       "      <td>0.184714</td>\n",
       "      <td>11487.832390</td>\n",
       "      <td>7386.764303</td>\n",
       "      <td>6511.344276</td>\n",
       "    </tr>\n",
       "    <tr>\n",
       "      <th>2</th>\n",
       "      <td>Afghanistan</td>\n",
       "      <td>1992</td>\n",
       "      <td>8961.526496</td>\n",
       "      <td>8083.234634</td>\n",
       "      <td>22418.698807</td>\n",
       "      <td>7991.018971</td>\n",
       "      <td>873.485341</td>\n",
       "      <td>557.567886</td>\n",
       "      <td>9769.844533</td>\n",
       "      <td>388.130434</td>\n",
       "      <td>3168.591633</td>\n",
       "      <td>2798.560245</td>\n",
       "      <td>3586.490291</td>\n",
       "      <td>191.318450</td>\n",
       "      <td>0.151354</td>\n",
       "      <td>11866.235572</td>\n",
       "      <td>7640.628526</td>\n",
       "      <td>6703.095594</td>\n",
       "    </tr>\n",
       "    <tr>\n",
       "      <th>3</th>\n",
       "      <td>Afghanistan</td>\n",
       "      <td>1993</td>\n",
       "      <td>9377.118485</td>\n",
       "      <td>8452.242405</td>\n",
       "      <td>23140.511175</td>\n",
       "      <td>8281.564408</td>\n",
       "      <td>1040.047422</td>\n",
       "      <td>676.375535</td>\n",
       "      <td>11433.769491</td>\n",
       "      <td>405.577931</td>\n",
       "      <td>3401.045056</td>\n",
       "      <td>2853.301679</td>\n",
       "      <td>3746.266658</td>\n",
       "      <td>199.767293</td>\n",
       "      <td>0.109392</td>\n",
       "      <td>12335.961682</td>\n",
       "      <td>7968.311853</td>\n",
       "      <td>6946.196824</td>\n",
       "    </tr>\n",
       "    <tr>\n",
       "      <th>4</th>\n",
       "      <td>Afghanistan</td>\n",
       "      <td>1994</td>\n",
       "      <td>9688.448554</td>\n",
       "      <td>8755.372045</td>\n",
       "      <td>23725.070084</td>\n",
       "      <td>8472.297780</td>\n",
       "      <td>1101.764645</td>\n",
       "      <td>858.483430</td>\n",
       "      <td>12936.955863</td>\n",
       "      <td>415.349195</td>\n",
       "      <td>3599.709735</td>\n",
       "      <td>2880.025765</td>\n",
       "      <td>3869.288402</td>\n",
       "      <td>206.619714</td>\n",
       "      <td>0.059103</td>\n",
       "      <td>12672.950191</td>\n",
       "      <td>8244.368430</td>\n",
       "      <td>7138.030745</td>\n",
       "    </tr>\n",
       "  </tbody>\n",
       "</table>\n",
       "</div>"
      ],
      "text/plain": [
       "       Country  Year  Diet low in fruits (deaths)  \\\n",
       "0  Afghanistan  1990                  8538.964137   \n",
       "1  Afghanistan  1991                  8642.847151   \n",
       "2  Afghanistan  1992                  8961.526496   \n",
       "3  Afghanistan  1993                  9377.118485   \n",
       "4  Afghanistan  1994                  9688.448554   \n",
       "\n",
       "   Diet low in vegetables (deaths)  High blood sugar (deaths)  \\\n",
       "0                      7678.717644               21610.066160   \n",
       "1                      7789.773033               21824.938039   \n",
       "2                      8083.234634               22418.698807   \n",
       "3                      8452.242405               23140.511175   \n",
       "4                      8755.372045               23725.070084   \n",
       "\n",
       "   Obesity (deaths)  Iron deficiency (deaths)  Zinc deficiency (deaths)  \\\n",
       "0       7701.581280                726.431294                501.020704   \n",
       "1       7747.774903                739.245799                523.865919   \n",
       "2       7991.018971                873.485341                557.567886   \n",
       "3       8281.564408               1040.047422                676.375535   \n",
       "4       8472.297780               1101.764645                858.483430   \n",
       "\n",
       "   Vitamin-A deficiency (deaths)  Low bone mineral density (deaths)  \\\n",
       "0                    9344.131952                         374.844056   \n",
       "1                    9330.182378                         379.854237   \n",
       "2                    9769.844533                         388.130434   \n",
       "3                   11433.769491                         405.577931   \n",
       "4                   12936.955863                         415.349195   \n",
       "\n",
       "   Diet low in fiber (deaths)  Diet high in sodium (deaths)  \\\n",
       "0                 2864.234512                   2737.197934   \n",
       "1                 2974.479775                   2741.184956   \n",
       "2                 3168.591633                   2798.560245   \n",
       "3                 3401.045056                   2853.301679   \n",
       "4                 3599.709735                   2880.025765   \n",
       "\n",
       "   Diet low in legumes (deaths)  Diet low in calcium (deaths)  \\\n",
       "0                   3418.965194                    181.287701   \n",
       "1                   3457.398250                    184.251584   \n",
       "2                   3586.490291                    191.318450   \n",
       "3                   3746.266658                    199.767293   \n",
       "4                   3869.288402                    206.619714   \n",
       "\n",
       "   Diet high in red meat (deaths)  Diet low in whole grains (deaths)  \\\n",
       "0                        0.220484                       11381.377345   \n",
       "1                        0.184714                       11487.832390   \n",
       "2                        0.151354                       11866.235572   \n",
       "3                        0.109392                       12335.961682   \n",
       "4                        0.059103                       12672.950191   \n",
       "\n",
       "   Diet low in nuts and seeds (deaths)  \\\n",
       "0                          7299.867330   \n",
       "1                          7386.764303   \n",
       "2                          7640.628526   \n",
       "3                          7968.311853   \n",
       "4                          8244.368430   \n",
       "\n",
       "   Diet low in seafood omega-3 fatty acids (deaths)  \n",
       "0                                       6456.565238  \n",
       "1                                       6511.344276  \n",
       "2                                       6703.095594  \n",
       "3                                       6946.196824  \n",
       "4                                       7138.030745  "
      ]
     },
     "execution_count": 10,
     "metadata": {},
     "output_type": "execute_result"
    }
   ],
   "source": [
    "# Including Country and Year, extract all columns related to diet issues\n",
    "diet_columns = [\n",
    "    'Country',\n",
    "    'Year',\n",
    "    'Diet low in fruits (deaths)',\n",
    "    'Diet low in vegetables (deaths)',\n",
    "    'High blood sugar (deaths)',\n",
    "    'Obesity (deaths)',\n",
    "    'Iron deficiency (deaths)',\n",
    "    'Zinc deficiency (deaths)',\n",
    "    'Vitamin-A deficiency (deaths)',\n",
    "    'Low bone mineral density (deaths)',\n",
    "    'Diet low in fiber (deaths)',\n",
    "    'Diet high in sodium (deaths)',\n",
    "    'Diet low in legumes (deaths)',\n",
    "    'Diet low in calcium (deaths)',\n",
    "    'Diet high in red meat (deaths)',\n",
    "    'Diet low in whole grains (deaths)',\n",
    "    'Diet low in nuts and seeds (deaths)',\n",
    "    'Diet low in seafood omega-3 fatty acids (deaths)'\n",
    "]\n",
    "\n",
    "# Create a sliced copy of the original DataFrame based on the conditions\n",
    "deaths_diet_df = deaths_df.loc[:, diet_columns]\n",
    "deaths_diet_df.head()"
   ]
  },
  {
   "cell_type": "markdown",
   "metadata": {
    "id": "FC9fbt3w9CDk"
   },
   "source": [
    "A new column, `Diet Issues`, is added below. It contains the sum of all causes of premature deaths related to diet issues. "
   ]
  },
  {
   "cell_type": "code",
   "execution_count": 11,
   "metadata": {
    "colab": {
     "base_uri": "https://localhost:8080/",
     "height": 204
    },
    "id": "7JfU9CnO9MJA",
    "outputId": "93f53d5c-bbe4-4ecb-d1fb-d910329a9af5"
   },
   "outputs": [
    {
     "data": {
      "text/html": [
       "<div>\n",
       "<style scoped>\n",
       "    .dataframe tbody tr th:only-of-type {\n",
       "        vertical-align: middle;\n",
       "    }\n",
       "\n",
       "    .dataframe tbody tr th {\n",
       "        vertical-align: top;\n",
       "    }\n",
       "\n",
       "    .dataframe thead th {\n",
       "        text-align: right;\n",
       "    }\n",
       "</style>\n",
       "<table border=\"1\" class=\"dataframe\">\n",
       "  <thead>\n",
       "    <tr style=\"text-align: right;\">\n",
       "      <th></th>\n",
       "      <th>Country</th>\n",
       "      <th>Year</th>\n",
       "      <th>Diet Issues</th>\n",
       "    </tr>\n",
       "  </thead>\n",
       "  <tbody>\n",
       "    <tr>\n",
       "      <th>0</th>\n",
       "      <td>Afghanistan</td>\n",
       "      <td>1990</td>\n",
       "      <td>90815.472966</td>\n",
       "    </tr>\n",
       "    <tr>\n",
       "      <th>1</th>\n",
       "      <td>Afghanistan</td>\n",
       "      <td>1991</td>\n",
       "      <td>91721.921706</td>\n",
       "    </tr>\n",
       "    <tr>\n",
       "      <th>2</th>\n",
       "      <td>Afghanistan</td>\n",
       "      <td>1992</td>\n",
       "      <td>94998.578766</td>\n",
       "    </tr>\n",
       "    <tr>\n",
       "      <th>3</th>\n",
       "      <td>Afghanistan</td>\n",
       "      <td>1993</td>\n",
       "      <td>100258.167288</td>\n",
       "    </tr>\n",
       "    <tr>\n",
       "      <th>4</th>\n",
       "      <td>Afghanistan</td>\n",
       "      <td>1994</td>\n",
       "      <td>104564.793682</td>\n",
       "    </tr>\n",
       "  </tbody>\n",
       "</table>\n",
       "</div>"
      ],
      "text/plain": [
       "       Country  Year    Diet Issues\n",
       "0  Afghanistan  1990   90815.472966\n",
       "1  Afghanistan  1991   91721.921706\n",
       "2  Afghanistan  1992   94998.578766\n",
       "3  Afghanistan  1993  100258.167288\n",
       "4  Afghanistan  1994  104564.793682"
      ]
     },
     "execution_count": 11,
     "metadata": {},
     "output_type": "execute_result"
    }
   ],
   "source": [
    "# Add a new column called Diet Issues, which is the sum of all deaths related to diet issues\n",
    "deaths_diet_df.loc[:, 'Diet Issues'] = deaths_diet_df.drop(['Country', 'Year'], axis=1).sum(axis=1).tolist()\n",
    "# Display a slice of the dataset revealing the Diet Issues column\n",
    "deaths_diet_df.loc[:, ['Country', 'Year', 'Diet Issues']].head()"
   ]
  },
  {
   "cell_type": "markdown",
   "metadata": {
    "id": "YjVVW3wx9CJn"
   },
   "source": [
    "The code below visualizes the yearly number of global premature deaths. In this case, a line graph is ideal in determining the trend on the number of premature deaths occuring over time.\n",
    "\n",
    "The dataset is first grouped according to year, and the total number of deaths per year is calculated afterwards. The result is visualized below."
   ]
  },
  {
   "cell_type": "code",
   "execution_count": 12,
   "metadata": {
    "colab": {
     "base_uri": "https://localhost:8080/",
     "height": 295
    },
    "id": "SPg7G65W9XKB",
    "outputId": "bd00394a-26f1-4ccf-c993-4bcd2fe6b867"
   },
   "outputs": [
    {
     "data": {
      "image/png": "[encoded data removed]",
      "text/plain": [
       "<Figure size 432x288 with 1 Axes>"
      ]
     },
     "metadata": {
      "needs_background": "light"
     },
     "output_type": "display_data"
    }
   ],
   "source": [
    "deaths_diet_yearly = deaths_diet_df.groupby('Year').agg({'Diet Issues': ['sum']})\n",
    "deaths_diet_yearly['Diet Issues'].plot()\n",
    "plt.xlabel('Year')\n",
    "plt.ylabel('Deaths')\n",
    "plt.ticklabel_format(style='plain')\n",
    "plt.title('Total Number of Premature Deaths Due to Diet Issues')\n",
    "plt.show()"
   ]
  },
  {
   "cell_type": "markdown",
   "metadata": {
    "id": "cvivuafL9CHS"
   },
   "source": [
    "The graph shows a general increase in the number of deaths per year. The peak in the graph represents the most number of deaths. To find out which year the peak corresponds to, the DataFrame can be sorted descendingly."
   ]
  },
  {
   "cell_type": "code",
   "execution_count": 13,
   "metadata": {
    "colab": {
     "base_uri": "https://localhost:8080/",
     "height": 51
    },
    "id": "uhawAD499asP",
    "outputId": "637f5fa2-7461-41b5-c6b8-250acfb83286"
   },
   "outputs": [
    {
     "data": {
      "text/plain": [
       "Diet Issues  sum    1.273109e+08\n",
       "Name: 2016, dtype: float64"
      ]
     },
     "execution_count": 13,
     "metadata": {},
     "output_type": "execute_result"
    }
   ],
   "source": [
    "# Get the year with the highest number of premature deaths due to diet issues\n",
    "deaths_diet_yearly.sort_values(('Diet Issues', 'sum'), ascending=False).head().iloc[0]"
   ]
  },
  {
   "cell_type": "markdown",
   "metadata": {
    "id": "G19QEh5Q7GF9"
   },
   "source": [
    "**Answer:** Based on the data, the year 2016 has the highest number of global premature deaths due to diet issues, with a total of ~127,310,900 deaths."
   ]
  },
  {
   "cell_type": "markdown",
   "metadata": {
    "id": "UJUhMfwn7GL-"
   },
   "source": [
    "### **2. Which year, from 1980 to 2017, has the highest average global human development index?**"
   ]
  },
  {
   "cell_type": "markdown",
   "metadata": {
    "id": "E5rF83UQ7GJ4"
   },
   "source": [
    "This question focuses on the `human-developoment-index` dataset, which is contained in the `hdi_df` dataframe. The DataFrame is grouped and aggregated to generate the mean HDIs. To better visualize the global trend in the average human development indices, a line graph is a suitable chart."
   ]
  },
  {
   "cell_type": "code",
   "execution_count": 14,
   "metadata": {
    "colab": {
     "base_uri": "https://localhost:8080/",
     "height": 1000
    },
    "id": "n0E5iw5r-NwC",
    "outputId": "c963116e-0db9-496d-a986-9f0a34ca2603"
   },
   "outputs": [
    {
     "data": {
      "text/html": [
       "<div>\n",
       "<style scoped>\n",
       "    .dataframe tbody tr th:only-of-type {\n",
       "        vertical-align: middle;\n",
       "    }\n",
       "\n",
       "    .dataframe tbody tr th {\n",
       "        vertical-align: top;\n",
       "    }\n",
       "\n",
       "    .dataframe thead tr th {\n",
       "        text-align: left;\n",
       "    }\n",
       "\n",
       "    .dataframe thead tr:last-of-type th {\n",
       "        text-align: right;\n",
       "    }\n",
       "</style>\n",
       "<table border=\"1\" class=\"dataframe\">\n",
       "  <thead>\n",
       "    <tr>\n",
       "      <th></th>\n",
       "      <th colspan=\"2\" halign=\"left\">HDI</th>\n",
       "    </tr>\n",
       "    <tr>\n",
       "      <th></th>\n",
       "      <th>mean</th>\n",
       "      <th>count</th>\n",
       "    </tr>\n",
       "    <tr>\n",
       "      <th>Year</th>\n",
       "      <th></th>\n",
       "      <th></th>\n",
       "    </tr>\n",
       "  </thead>\n",
       "  <tbody>\n",
       "    <tr>\n",
       "      <th>1980</th>\n",
       "      <td>0.545096</td>\n",
       "      <td>104</td>\n",
       "    </tr>\n",
       "    <tr>\n",
       "      <th>1985</th>\n",
       "      <td>0.564866</td>\n",
       "      <td>112</td>\n",
       "    </tr>\n",
       "    <tr>\n",
       "      <th>1990</th>\n",
       "      <td>0.597818</td>\n",
       "      <td>143</td>\n",
       "    </tr>\n",
       "    <tr>\n",
       "      <th>1991</th>\n",
       "      <td>0.599910</td>\n",
       "      <td>144</td>\n",
       "    </tr>\n",
       "    <tr>\n",
       "      <th>1992</th>\n",
       "      <td>0.602674</td>\n",
       "      <td>141</td>\n",
       "    </tr>\n",
       "    <tr>\n",
       "      <th>1993</th>\n",
       "      <td>0.606278</td>\n",
       "      <td>144</td>\n",
       "    </tr>\n",
       "    <tr>\n",
       "      <th>1994</th>\n",
       "      <td>0.610590</td>\n",
       "      <td>144</td>\n",
       "    </tr>\n",
       "    <tr>\n",
       "      <th>1995</th>\n",
       "      <td>0.613750</td>\n",
       "      <td>148</td>\n",
       "    </tr>\n",
       "    <tr>\n",
       "      <th>1996</th>\n",
       "      <td>0.619270</td>\n",
       "      <td>148</td>\n",
       "    </tr>\n",
       "    <tr>\n",
       "      <th>1997</th>\n",
       "      <td>0.624514</td>\n",
       "      <td>148</td>\n",
       "    </tr>\n",
       "    <tr>\n",
       "      <th>1998</th>\n",
       "      <td>0.629872</td>\n",
       "      <td>148</td>\n",
       "    </tr>\n",
       "    <tr>\n",
       "      <th>1999</th>\n",
       "      <td>0.630000</td>\n",
       "      <td>151</td>\n",
       "    </tr>\n",
       "    <tr>\n",
       "      <th>2000</th>\n",
       "      <td>0.631168</td>\n",
       "      <td>173</td>\n",
       "    </tr>\n",
       "    <tr>\n",
       "      <th>2001</th>\n",
       "      <td>0.636832</td>\n",
       "      <td>173</td>\n",
       "    </tr>\n",
       "    <tr>\n",
       "      <th>2002</th>\n",
       "      <td>0.640754</td>\n",
       "      <td>175</td>\n",
       "    </tr>\n",
       "    <tr>\n",
       "      <th>2003</th>\n",
       "      <td>0.645893</td>\n",
       "      <td>177</td>\n",
       "    </tr>\n",
       "    <tr>\n",
       "      <th>2004</th>\n",
       "      <td>0.651617</td>\n",
       "      <td>180</td>\n",
       "    </tr>\n",
       "    <tr>\n",
       "      <th>2005</th>\n",
       "      <td>0.655364</td>\n",
       "      <td>187</td>\n",
       "    </tr>\n",
       "    <tr>\n",
       "      <th>2006</th>\n",
       "      <td>0.662230</td>\n",
       "      <td>187</td>\n",
       "    </tr>\n",
       "    <tr>\n",
       "      <th>2007</th>\n",
       "      <td>0.669294</td>\n",
       "      <td>187</td>\n",
       "    </tr>\n",
       "    <tr>\n",
       "      <th>2008</th>\n",
       "      <td>0.675005</td>\n",
       "      <td>187</td>\n",
       "    </tr>\n",
       "    <tr>\n",
       "      <th>2009</th>\n",
       "      <td>0.678684</td>\n",
       "      <td>187</td>\n",
       "    </tr>\n",
       "    <tr>\n",
       "      <th>2010</th>\n",
       "      <td>0.682598</td>\n",
       "      <td>189</td>\n",
       "    </tr>\n",
       "    <tr>\n",
       "      <th>2011</th>\n",
       "      <td>0.687762</td>\n",
       "      <td>189</td>\n",
       "    </tr>\n",
       "    <tr>\n",
       "      <th>2012</th>\n",
       "      <td>0.692862</td>\n",
       "      <td>189</td>\n",
       "    </tr>\n",
       "    <tr>\n",
       "      <th>2013</th>\n",
       "      <td>0.697323</td>\n",
       "      <td>189</td>\n",
       "    </tr>\n",
       "    <tr>\n",
       "      <th>2014</th>\n",
       "      <td>0.701429</td>\n",
       "      <td>189</td>\n",
       "    </tr>\n",
       "    <tr>\n",
       "      <th>2015</th>\n",
       "      <td>0.705175</td>\n",
       "      <td>189</td>\n",
       "    </tr>\n",
       "    <tr>\n",
       "      <th>2016</th>\n",
       "      <td>0.707952</td>\n",
       "      <td>189</td>\n",
       "    </tr>\n",
       "    <tr>\n",
       "      <th>2017</th>\n",
       "      <td>0.710337</td>\n",
       "      <td>190</td>\n",
       "    </tr>\n",
       "  </tbody>\n",
       "</table>\n",
       "</div>"
      ],
      "text/plain": [
       "           HDI      \n",
       "          mean count\n",
       "Year                \n",
       "1980  0.545096   104\n",
       "1985  0.564866   112\n",
       "1990  0.597818   143\n",
       "1991  0.599910   144\n",
       "1992  0.602674   141\n",
       "1993  0.606278   144\n",
       "1994  0.610590   144\n",
       "1995  0.613750   148\n",
       "1996  0.619270   148\n",
       "1997  0.624514   148\n",
       "1998  0.629872   148\n",
       "1999  0.630000   151\n",
       "2000  0.631168   173\n",
       "2001  0.636832   173\n",
       "2002  0.640754   175\n",
       "2003  0.645893   177\n",
       "2004  0.651617   180\n",
       "2005  0.655364   187\n",
       "2006  0.662230   187\n",
       "2007  0.669294   187\n",
       "2008  0.675005   187\n",
       "2009  0.678684   187\n",
       "2010  0.682598   189\n",
       "2011  0.687762   189\n",
       "2012  0.692862   189\n",
       "2013  0.697323   189\n",
       "2014  0.701429   189\n",
       "2015  0.705175   189\n",
       "2016  0.707952   189\n",
       "2017  0.710337   190"
      ]
     },
     "execution_count": 14,
     "metadata": {},
     "output_type": "execute_result"
    }
   ],
   "source": [
    "# Get the average global HDIs annually and include the number of documented observations per year\n",
    "yearly_mean_hdi = hdi_df.groupby('Year').agg({'HDI': ['mean', 'count']})\n",
    "yearly_mean_hdi"
   ]
  },
  {
   "cell_type": "markdown",
   "metadata": {
    "id": "7zvOCdSP7GIm"
   },
   "source": [
    "The column `(HDI, count)` represents the number of countries with HDI records in the dataset on the specified year. The differences in counts mean that not all countries have their respective HDIs in the dataset for every year. Moreover, there is not a single observation in the years 1981 to 1984 and 1986 to 1989. This EDA question will be answered based on available data.\n",
    "\n",
    "The average human development indices across the years is best visualized using a line graph, as shown below."
   ]
  },
  {
   "cell_type": "code",
   "execution_count": 15,
   "metadata": {
    "colab": {
     "base_uri": "https://localhost:8080/",
     "height": 295
    },
    "id": "2LTkHfTv-bTM",
    "outputId": "ac91bb7c-9a5b-4af7-db4c-a4950b06da5f"
   },
   "outputs": [
    {
     "data": {
      "image/png": "[encoded data removed]",
      "text/plain": [
       "<Figure size 432x288 with 1 Axes>"
      ]
     },
     "metadata": {
      "needs_background": "light"
     },
     "output_type": "display_data"
    }
   ],
   "source": [
    "yearly_mean_hdi = hdi_df.groupby('Year').agg({'HDI': ['mean']})\n",
    "yearly_mean_hdi['HDI'].plot()\n",
    "plt.ylabel('Human Development Index')\n",
    "plt.title('Average Human Development Indices Across the Years')\n",
    "plt.show()"
   ]
  },
  {
   "cell_type": "markdown",
   "metadata": {
    "id": "Rc-0NJvz-kKf"
   },
   "source": [
    "There is an increasing trend in the average HDIs globally from 1980 to 2017. This is expected, considering the rapid technological advancements during these years. The year with the highest average HDI is shown below."
   ]
  },
  {
   "cell_type": "code",
   "execution_count": 16,
   "metadata": {
    "colab": {
     "base_uri": "https://localhost:8080/",
     "height": 51
    },
    "id": "iUpHbT-D-fAq",
    "outputId": "a1a371b3-3cc1-4704-c0b4-96f13138bf38"
   },
   "outputs": [
    {
     "data": {
      "text/plain": [
       "HDI  mean    0.710337\n",
       "Name: 2017, dtype: float64"
      ]
     },
     "execution_count": 16,
     "metadata": {},
     "output_type": "execute_result"
    }
   ],
   "source": [
    "# Sort the DataFrame according to the mean HDI in descending order\n",
    "yearly_mean_hdi = yearly_mean_hdi.sort_values(('HDI', 'mean'), ascending=False)\n",
    "# Display the year with the largest average HDI\n",
    "yearly_mean_hdi.iloc[0]"
   ]
  },
  {
   "cell_type": "code",
   "execution_count": 17,
   "metadata": {
    "colab": {
     "base_uri": "https://localhost:8080/",
     "height": 34
    },
    "id": "iAxQLJWr-g2j",
    "outputId": "3268e50b-75c7-4fbf-fe0f-15eca470f847"
   },
   "outputs": [
    {
     "name": "stdout",
     "output_type": "stream",
     "text": [
      "Average HDI difference between 2017 and 1980: 0.1652\n"
     ]
    }
   ],
   "source": [
    "print('Average HDI difference between 2017 and 1980:', \n",
    "      round((yearly_mean_hdi['HDI']['mean'].loc[2017] - yearly_mean_hdi['HDI']['mean'].loc[1980]), 4))"
   ]
  },
  {
   "cell_type": "markdown",
   "metadata": {
    "id": "UgeePFea-dgK"
   },
   "source": [
    "**Answer:** Verifying the visualization in the line graph above, the year 2017 has the highest global average in the Human Development Index, with a value of 0.710337. This is a ~0.1652 increase from the average HDI in 1980."
   ]
  },
  {
   "cell_type": "markdown",
   "metadata": {
    "id": "Wf5LEb6Y-mt7"
   },
   "source": [
    "### **3. What is the human development index of the country that has the lowest number of deaths due to smoking in 2017?**"
   ]
  },
  {
   "cell_type": "markdown",
   "metadata": {
    "id": "2SxGnxpD-p6e"
   },
   "source": [
    "This question requires the use of both datasets. To easily manipulate the data, the two datasets will first be joined into one. However, one of the main problems when joining two datasets is the completeness of the data. For instance, not all countries and their respective years in the `premature-deaths` dataset have their corresponding HDI values in the `human-development-index` dataset. To ensure that all observations have their own HDI values, an inner join is performed. Observations with matching values on both datasets will be merged. Due to the nature of inner join and the year constraints, some of the countries may not be present in the resulting dataset."
   ]
  },
  {
   "cell_type": "code",
   "execution_count": 18,
   "metadata": {
    "colab": {
     "base_uri": "https://localhost:8080/",
     "height": 541
    },
    "id": "KvMsIDFm-v8S",
    "outputId": "d10f3086-159c-4855-8954-6d4feb0dcb66"
   },
   "outputs": [
    {
     "data": {
      "text/html": [
       "<div>\n",
       "<style scoped>\n",
       "    .dataframe tbody tr th:only-of-type {\n",
       "        vertical-align: middle;\n",
       "    }\n",
       "\n",
       "    .dataframe tbody tr th {\n",
       "        vertical-align: top;\n",
       "    }\n",
       "\n",
       "    .dataframe thead th {\n",
       "        text-align: right;\n",
       "    }\n",
       "</style>\n",
       "<table border=\"1\" class=\"dataframe\">\n",
       "  <thead>\n",
       "    <tr style=\"text-align: right;\">\n",
       "      <th></th>\n",
       "      <th>Country</th>\n",
       "      <th>Year</th>\n",
       "      <th>Unsafe water source (deaths)</th>\n",
       "      <th>Poor sanitation (deaths)</th>\n",
       "      <th>No access to handwashing facility (deaths)</th>\n",
       "      <th>Indoor air pollution (deaths)</th>\n",
       "      <th>Non-exclusive breastfeeding (deaths)</th>\n",
       "      <th>Discontinued breastfeeding (deaths)</th>\n",
       "      <th>Child wasting (deaths)</th>\n",
       "      <th>Child stunting (deaths)</th>\n",
       "      <th>...</th>\n",
       "      <th>Outdoor air pollution (deaths)</th>\n",
       "      <th>Diet low in fiber (deaths)</th>\n",
       "      <th>Diet high in sodium (deaths)</th>\n",
       "      <th>Diet low in legumes (deaths)</th>\n",
       "      <th>Diet low in calcium (deaths)</th>\n",
       "      <th>Diet high in red meat (deaths)</th>\n",
       "      <th>Diet low in whole grains (deaths)</th>\n",
       "      <th>Diet low in nuts and seeds (deaths)</th>\n",
       "      <th>Diet low in seafood omega-3 fatty acids (deaths)</th>\n",
       "      <th>HDI</th>\n",
       "    </tr>\n",
       "  </thead>\n",
       "  <tbody>\n",
       "    <tr>\n",
       "      <th>0</th>\n",
       "      <td>Afghanistan</td>\n",
       "      <td>2002</td>\n",
       "      <td>9764.768756</td>\n",
       "      <td>7522.617843</td>\n",
       "      <td>7055.322090</td>\n",
       "      <td>26679.508332</td>\n",
       "      <td>3852.417277</td>\n",
       "      <td>207.900393</td>\n",
       "      <td>30516.319451</td>\n",
       "      <td>15023.027949</td>\n",
       "      <td>...</td>\n",
       "      <td>5580.75</td>\n",
       "      <td>4372.057938</td>\n",
       "      <td>2929.456819</td>\n",
       "      <td>4232.325602</td>\n",
       "      <td>246.525387</td>\n",
       "      <td>0.000833</td>\n",
       "      <td>13770.831626</td>\n",
       "      <td>8901.792260</td>\n",
       "      <td>7536.660849</td>\n",
       "      <td>0.373</td>\n",
       "    </tr>\n",
       "    <tr>\n",
       "      <th>1</th>\n",
       "      <td>Afghanistan</td>\n",
       "      <td>2003</td>\n",
       "      <td>11510.492710</td>\n",
       "      <td>8853.838865</td>\n",
       "      <td>8214.459990</td>\n",
       "      <td>28325.886808</td>\n",
       "      <td>4184.981616</td>\n",
       "      <td>254.024088</td>\n",
       "      <td>30053.870976</td>\n",
       "      <td>11925.068997</td>\n",
       "      <td>...</td>\n",
       "      <td>6111.07</td>\n",
       "      <td>4404.297668</td>\n",
       "      <td>2935.115511</td>\n",
       "      <td>4233.956804</td>\n",
       "      <td>251.606940</td>\n",
       "      <td>0.000588</td>\n",
       "      <td>13814.104883</td>\n",
       "      <td>8878.598378</td>\n",
       "      <td>7511.840020</td>\n",
       "      <td>0.383</td>\n",
       "    </tr>\n",
       "    <tr>\n",
       "      <th>2</th>\n",
       "      <td>Afghanistan</td>\n",
       "      <td>2004</td>\n",
       "      <td>11656.614656</td>\n",
       "      <td>8950.642810</td>\n",
       "      <td>8331.270817</td>\n",
       "      <td>28511.343486</td>\n",
       "      <td>4067.087139</td>\n",
       "      <td>262.000727</td>\n",
       "      <td>29568.253876</td>\n",
       "      <td>10771.522729</td>\n",
       "      <td>...</td>\n",
       "      <td>6159.58</td>\n",
       "      <td>4422.704373</td>\n",
       "      <td>2955.081728</td>\n",
       "      <td>4219.626890</td>\n",
       "      <td>256.127808</td>\n",
       "      <td>0.000221</td>\n",
       "      <td>13808.042550</td>\n",
       "      <td>8832.863909</td>\n",
       "      <td>7471.834547</td>\n",
       "      <td>0.398</td>\n",
       "    </tr>\n",
       "    <tr>\n",
       "      <th>3</th>\n",
       "      <td>Afghanistan</td>\n",
       "      <td>2005</td>\n",
       "      <td>10973.736325</td>\n",
       "      <td>8410.948806</td>\n",
       "      <td>7928.463722</td>\n",
       "      <td>27621.503383</td>\n",
       "      <td>3761.322094</td>\n",
       "      <td>245.140693</td>\n",
       "      <td>27799.719164</td>\n",
       "      <td>10077.029719</td>\n",
       "      <td>...</td>\n",
       "      <td>6189.71</td>\n",
       "      <td>4439.091537</td>\n",
       "      <td>2958.574389</td>\n",
       "      <td>4201.880619</td>\n",
       "      <td>260.255967</td>\n",
       "      <td>0.000146</td>\n",
       "      <td>13785.140783</td>\n",
       "      <td>8782.006155</td>\n",
       "      <td>7423.576520</td>\n",
       "      <td>0.408</td>\n",
       "    </tr>\n",
       "    <tr>\n",
       "      <th>4</th>\n",
       "      <td>Afghanistan</td>\n",
       "      <td>2006</td>\n",
       "      <td>10040.772962</td>\n",
       "      <td>7673.530946</td>\n",
       "      <td>7393.873325</td>\n",
       "      <td>26765.726784</td>\n",
       "      <td>3549.869090</td>\n",
       "      <td>216.945204</td>\n",
       "      <td>26233.635650</td>\n",
       "      <td>9646.267726</td>\n",
       "      <td>...</td>\n",
       "      <td>6202.75</td>\n",
       "      <td>4441.160448</td>\n",
       "      <td>2964.409777</td>\n",
       "      <td>4173.446322</td>\n",
       "      <td>264.505782</td>\n",
       "      <td>0.000095</td>\n",
       "      <td>13729.953193</td>\n",
       "      <td>8718.309024</td>\n",
       "      <td>7376.349859</td>\n",
       "      <td>0.417</td>\n",
       "    </tr>\n",
       "    <tr>\n",
       "      <th>...</th>\n",
       "      <td>...</td>\n",
       "      <td>...</td>\n",
       "      <td>...</td>\n",
       "      <td>...</td>\n",
       "      <td>...</td>\n",
       "      <td>...</td>\n",
       "      <td>...</td>\n",
       "      <td>...</td>\n",
       "      <td>...</td>\n",
       "      <td>...</td>\n",
       "      <td>...</td>\n",
       "      <td>...</td>\n",
       "      <td>...</td>\n",
       "      <td>...</td>\n",
       "      <td>...</td>\n",
       "      <td>...</td>\n",
       "      <td>...</td>\n",
       "      <td>...</td>\n",
       "      <td>...</td>\n",
       "      <td>...</td>\n",
       "      <td>...</td>\n",
       "    </tr>\n",
       "    <tr>\n",
       "      <th>4675</th>\n",
       "      <td>Zimbabwe</td>\n",
       "      <td>2013</td>\n",
       "      <td>4254.282075</td>\n",
       "      <td>2977.649750</td>\n",
       "      <td>3913.210510</td>\n",
       "      <td>7613.561005</td>\n",
       "      <td>1037.968042</td>\n",
       "      <td>59.150493</td>\n",
       "      <td>7703.062474</td>\n",
       "      <td>1317.296056</td>\n",
       "      <td>...</td>\n",
       "      <td>2053.58</td>\n",
       "      <td>619.391594</td>\n",
       "      <td>1018.389001</td>\n",
       "      <td>469.787520</td>\n",
       "      <td>182.630009</td>\n",
       "      <td>0.000311</td>\n",
       "      <td>2687.636261</td>\n",
       "      <td>2409.930182</td>\n",
       "      <td>1757.282549</td>\n",
       "      <td>0.516</td>\n",
       "    </tr>\n",
       "    <tr>\n",
       "      <th>4676</th>\n",
       "      <td>Zimbabwe</td>\n",
       "      <td>2014</td>\n",
       "      <td>4098.769691</td>\n",
       "      <td>2856.426187</td>\n",
       "      <td>3809.245683</td>\n",
       "      <td>7429.446352</td>\n",
       "      <td>972.886327</td>\n",
       "      <td>54.334796</td>\n",
       "      <td>7401.059382</td>\n",
       "      <td>1259.989023</td>\n",
       "      <td>...</td>\n",
       "      <td>2030.92</td>\n",
       "      <td>604.168238</td>\n",
       "      <td>1016.407438</td>\n",
       "      <td>482.800746</td>\n",
       "      <td>184.379579</td>\n",
       "      <td>0.000756</td>\n",
       "      <td>2654.381923</td>\n",
       "      <td>2399.261581</td>\n",
       "      <td>1740.938755</td>\n",
       "      <td>0.525</td>\n",
       "    </tr>\n",
       "    <tr>\n",
       "      <th>4677</th>\n",
       "      <td>Zimbabwe</td>\n",
       "      <td>2015</td>\n",
       "      <td>3921.291358</td>\n",
       "      <td>2717.735794</td>\n",
       "      <td>3688.442102</td>\n",
       "      <td>7267.029297</td>\n",
       "      <td>912.248164</td>\n",
       "      <td>50.255551</td>\n",
       "      <td>7100.476546</td>\n",
       "      <td>1205.589945</td>\n",
       "      <td>...</td>\n",
       "      <td>1994.91</td>\n",
       "      <td>594.347147</td>\n",
       "      <td>1019.971539</td>\n",
       "      <td>494.337563</td>\n",
       "      <td>188.020716</td>\n",
       "      <td>0.001512</td>\n",
       "      <td>2635.950107</td>\n",
       "      <td>2398.525219</td>\n",
       "      <td>1732.926445</td>\n",
       "      <td>0.529</td>\n",
       "    </tr>\n",
       "    <tr>\n",
       "      <th>4678</th>\n",
       "      <td>Zimbabwe</td>\n",
       "      <td>2016</td>\n",
       "      <td>3802.257512</td>\n",
       "      <td>2624.315858</td>\n",
       "      <td>3603.179799</td>\n",
       "      <td>7134.595677</td>\n",
       "      <td>875.706009</td>\n",
       "      <td>47.719473</td>\n",
       "      <td>6823.766727</td>\n",
       "      <td>1099.871279</td>\n",
       "      <td>...</td>\n",
       "      <td>2030.88</td>\n",
       "      <td>592.092457</td>\n",
       "      <td>1032.181216</td>\n",
       "      <td>507.088683</td>\n",
       "      <td>192.913319</td>\n",
       "      <td>0.002787</td>\n",
       "      <td>2641.376815</td>\n",
       "      <td>2417.422521</td>\n",
       "      <td>1740.653975</td>\n",
       "      <td>0.532</td>\n",
       "    </tr>\n",
       "    <tr>\n",
       "      <th>4679</th>\n",
       "      <td>Zimbabwe</td>\n",
       "      <td>2017</td>\n",
       "      <td>3796.070615</td>\n",
       "      <td>2612.122560</td>\n",
       "      <td>3579.352078</td>\n",
       "      <td>6982.337249</td>\n",
       "      <td>866.902012</td>\n",
       "      <td>46.816760</td>\n",
       "      <td>6609.236886</td>\n",
       "      <td>1021.437703</td>\n",
       "      <td>...</td>\n",
       "      <td>2112.19</td>\n",
       "      <td>595.869132</td>\n",
       "      <td>1049.402363</td>\n",
       "      <td>520.751472</td>\n",
       "      <td>196.849490</td>\n",
       "      <td>0.004705</td>\n",
       "      <td>2664.132572</td>\n",
       "      <td>2449.546229</td>\n",
       "      <td>1762.183897</td>\n",
       "      <td>0.535</td>\n",
       "    </tr>\n",
       "  </tbody>\n",
       "</table>\n",
       "<p>4680 rows × 37 columns</p>\n",
       "</div>"
      ],
      "text/plain": [
       "          Country  Year  Unsafe water source (deaths)  \\\n",
       "0     Afghanistan  2002                   9764.768756   \n",
       "1     Afghanistan  2003                  11510.492710   \n",
       "2     Afghanistan  2004                  11656.614656   \n",
       "3     Afghanistan  2005                  10973.736325   \n",
       "4     Afghanistan  2006                  10040.772962   \n",
       "...           ...   ...                           ...   \n",
       "4675     Zimbabwe  2013                   4254.282075   \n",
       "4676     Zimbabwe  2014                   4098.769691   \n",
       "4677     Zimbabwe  2015                   3921.291358   \n",
       "4678     Zimbabwe  2016                   3802.257512   \n",
       "4679     Zimbabwe  2017                   3796.070615   \n",
       "\n",
       "      Poor sanitation (deaths)  No access to handwashing facility (deaths)  \\\n",
       "0                  7522.617843                                 7055.322090   \n",
       "1                  8853.838865                                 8214.459990   \n",
       "2                  8950.642810                                 8331.270817   \n",
       "3                  8410.948806                                 7928.463722   \n",
       "4                  7673.530946                                 7393.873325   \n",
       "...                        ...                                         ...   \n",
       "4675               2977.649750                                 3913.210510   \n",
       "4676               2856.426187                                 3809.245683   \n",
       "4677               2717.735794                                 3688.442102   \n",
       "4678               2624.315858                                 3603.179799   \n",
       "4679               2612.122560                                 3579.352078   \n",
       "\n",
       "      Indoor air pollution (deaths)  Non-exclusive breastfeeding (deaths)  \\\n",
       "0                      26679.508332                           3852.417277   \n",
       "1                      28325.886808                           4184.981616   \n",
       "2                      28511.343486                           4067.087139   \n",
       "3                      27621.503383                           3761.322094   \n",
       "4                      26765.726784                           3549.869090   \n",
       "...                             ...                                   ...   \n",
       "4675                    7613.561005                           1037.968042   \n",
       "4676                    7429.446352                            972.886327   \n",
       "4677                    7267.029297                            912.248164   \n",
       "4678                    7134.595677                            875.706009   \n",
       "4679                    6982.337249                            866.902012   \n",
       "\n",
       "      Discontinued breastfeeding (deaths)  Child wasting (deaths)  \\\n",
       "0                              207.900393            30516.319451   \n",
       "1                              254.024088            30053.870976   \n",
       "2                              262.000727            29568.253876   \n",
       "3                              245.140693            27799.719164   \n",
       "4                              216.945204            26233.635650   \n",
       "...                                   ...                     ...   \n",
       "4675                            59.150493             7703.062474   \n",
       "4676                            54.334796             7401.059382   \n",
       "4677                            50.255551             7100.476546   \n",
       "4678                            47.719473             6823.766727   \n",
       "4679                            46.816760             6609.236886   \n",
       "\n",
       "      Child stunting (deaths)  ...  Outdoor air pollution (deaths)  \\\n",
       "0                15023.027949  ...                         5580.75   \n",
       "1                11925.068997  ...                         6111.07   \n",
       "2                10771.522729  ...                         6159.58   \n",
       "3                10077.029719  ...                         6189.71   \n",
       "4                 9646.267726  ...                         6202.75   \n",
       "...                       ...  ...                             ...   \n",
       "4675              1317.296056  ...                         2053.58   \n",
       "4676              1259.989023  ...                         2030.92   \n",
       "4677              1205.589945  ...                         1994.91   \n",
       "4678              1099.871279  ...                         2030.88   \n",
       "4679              1021.437703  ...                         2112.19   \n",
       "\n",
       "      Diet low in fiber (deaths)  Diet high in sodium (deaths)  \\\n",
       "0                    4372.057938                   2929.456819   \n",
       "1                    4404.297668                   2935.115511   \n",
       "2                    4422.704373                   2955.081728   \n",
       "3                    4439.091537                   2958.574389   \n",
       "4                    4441.160448                   2964.409777   \n",
       "...                          ...                           ...   \n",
       "4675                  619.391594                   1018.389001   \n",
       "4676                  604.168238                   1016.407438   \n",
       "4677                  594.347147                   1019.971539   \n",
       "4678                  592.092457                   1032.181216   \n",
       "4679                  595.869132                   1049.402363   \n",
       "\n",
       "      Diet low in legumes (deaths)  Diet low in calcium (deaths)  \\\n",
       "0                      4232.325602                    246.525387   \n",
       "1                      4233.956804                    251.606940   \n",
       "2                      4219.626890                    256.127808   \n",
       "3                      4201.880619                    260.255967   \n",
       "4                      4173.446322                    264.505782   \n",
       "...                            ...                           ...   \n",
       "4675                    469.787520                    182.630009   \n",
       "4676                    482.800746                    184.379579   \n",
       "4677                    494.337563                    188.020716   \n",
       "4678                    507.088683                    192.913319   \n",
       "4679                    520.751472                    196.849490   \n",
       "\n",
       "      Diet high in red meat (deaths)  Diet low in whole grains (deaths)  \\\n",
       "0                           0.000833                       13770.831626   \n",
       "1                           0.000588                       13814.104883   \n",
       "2                           0.000221                       13808.042550   \n",
       "3                           0.000146                       13785.140783   \n",
       "4                           0.000095                       13729.953193   \n",
       "...                              ...                                ...   \n",
       "4675                        0.000311                        2687.636261   \n",
       "4676                        0.000756                        2654.381923   \n",
       "4677                        0.001512                        2635.950107   \n",
       "4678                        0.002787                        2641.376815   \n",
       "4679                        0.004705                        2664.132572   \n",
       "\n",
       "      Diet low in nuts and seeds (deaths)  \\\n",
       "0                             8901.792260   \n",
       "1                             8878.598378   \n",
       "2                             8832.863909   \n",
       "3                             8782.006155   \n",
       "4                             8718.309024   \n",
       "...                                   ...   \n",
       "4675                          2409.930182   \n",
       "4676                          2399.261581   \n",
       "4677                          2398.525219   \n",
       "4678                          2417.422521   \n",
       "4679                          2449.546229   \n",
       "\n",
       "      Diet low in seafood omega-3 fatty acids (deaths)    HDI  \n",
       "0                                          7536.660849  0.373  \n",
       "1                                          7511.840020  0.383  \n",
       "2                                          7471.834547  0.398  \n",
       "3                                          7423.576520  0.408  \n",
       "4                                          7376.349859  0.417  \n",
       "...                                                ...    ...  \n",
       "4675                                       1757.282549  0.516  \n",
       "4676                                       1740.938755  0.525  \n",
       "4677                                       1732.926445  0.529  \n",
       "4678                                       1740.653975  0.532  \n",
       "4679                                       1762.183897  0.535  \n",
       "\n",
       "[4680 rows x 37 columns]"
      ]
     },
     "execution_count": 18,
     "metadata": {},
     "output_type": "execute_result"
    }
   ],
   "source": [
    "# Perform an inner join with the two datasets\n",
    "deaths_hdi_df = pd.merge(deaths_df, hdi_df, on=['Country', 'Year'])\n",
    "deaths_hdi_df"
   ]
  },
  {
   "cell_type": "code",
   "execution_count": 19,
   "metadata": {
    "colab": {
     "base_uri": "https://localhost:8080/",
     "height": 663
    },
    "id": "A8a5zCdC-zaO",
    "outputId": "8c39d7b9-6a27-43fb-e0a6-1e1040ab7194"
   },
   "outputs": [
    {
     "data": {
      "text/plain": [
       "Country                                             False\n",
       "Year                                                False\n",
       "Unsafe water source (deaths)                        False\n",
       "Poor sanitation (deaths)                            False\n",
       "No access to handwashing facility (deaths)          False\n",
       "Indoor air pollution (deaths)                       False\n",
       "Non-exclusive breastfeeding (deaths)                False\n",
       "Discontinued breastfeeding (deaths)                 False\n",
       "Child wasting (deaths)                              False\n",
       "Child stunting (deaths)                             False\n",
       "Low birth weight (deaths)                           False\n",
       "Secondhand smoke (deaths)                           False\n",
       "Alcohol use (deaths)                                False\n",
       "Drug use (deaths)                                   False\n",
       "Diet low in fruits (deaths)                         False\n",
       "Diet low in vegetables (deaths)                     False\n",
       "Unsafe sex (deaths)                                 False\n",
       "Low physical activity (deaths)                      False\n",
       "High blood sugar (deaths)                           False\n",
       "Obesity (deaths)                                    False\n",
       "High blood pressure (deaths)                        False\n",
       "Smoking (deaths)                                    False\n",
       "Iron deficiency (deaths)                            False\n",
       "Zinc deficiency (deaths)                            False\n",
       "Vitamin-A deficiency (deaths)                       False\n",
       "Low bone mineral density (deaths)                   False\n",
       "Air pollution (outdoor & indoor) (deaths)           False\n",
       "Outdoor air pollution (deaths)                      False\n",
       "Diet low in fiber (deaths)                          False\n",
       "Diet high in sodium (deaths)                        False\n",
       "Diet low in legumes (deaths)                        False\n",
       "Diet low in calcium (deaths)                        False\n",
       "Diet high in red meat (deaths)                      False\n",
       "Diet low in whole grains (deaths)                   False\n",
       "Diet low in nuts and seeds (deaths)                 False\n",
       "Diet low in seafood omega-3 fatty acids (deaths)    False\n",
       "HDI                                                 False\n",
       "dtype: bool"
      ]
     },
     "execution_count": 19,
     "metadata": {},
     "output_type": "execute_result"
    }
   ],
   "source": [
    "# Determine if there are observations with null values in the resulting dataset\n",
    "deaths_hdi_df.isnull().any()"
   ]
  },
  {
   "cell_type": "markdown",
   "metadata": {
    "id": "X5-dJPMu_Cnt"
   },
   "source": [
    "The joining process results to a total of 4680 complete, non-null observations. The next lines of code create a copy of the DataFrame, but it only stores observations in 2017. Unnecessary columns are also removed, leaving only `Country`, `Smoking (deaths)`, and `HDI` in the DataFrame. The result is stored in the DataFrame `deaths_hdi_smoking_2017_df`."
   ]
  },
  {
   "cell_type": "code",
   "execution_count": 20,
   "metadata": {
    "colab": {
     "base_uri": "https://localhost:8080/",
     "height": 204
    },
    "id": "7mfrIeV__QCj",
    "outputId": "7ac12988-efd7-4ebd-8a7e-c20966268a27"
   },
   "outputs": [
    {
     "data": {
      "text/html": [
       "<div>\n",
       "<style scoped>\n",
       "    .dataframe tbody tr th:only-of-type {\n",
       "        vertical-align: middle;\n",
       "    }\n",
       "\n",
       "    .dataframe tbody tr th {\n",
       "        vertical-align: top;\n",
       "    }\n",
       "\n",
       "    .dataframe thead th {\n",
       "        text-align: right;\n",
       "    }\n",
       "</style>\n",
       "<table border=\"1\" class=\"dataframe\">\n",
       "  <thead>\n",
       "    <tr style=\"text-align: right;\">\n",
       "      <th></th>\n",
       "      <th>Country</th>\n",
       "      <th>Smoking (deaths)</th>\n",
       "      <th>HDI</th>\n",
       "    </tr>\n",
       "  </thead>\n",
       "  <tbody>\n",
       "    <tr>\n",
       "      <th>15</th>\n",
       "      <td>Afghanistan</td>\n",
       "      <td>9241.250845</td>\n",
       "      <td>0.498</td>\n",
       "    </tr>\n",
       "    <tr>\n",
       "      <th>43</th>\n",
       "      <td>Albania</td>\n",
       "      <td>4161.156448</td>\n",
       "      <td>0.785</td>\n",
       "    </tr>\n",
       "    <tr>\n",
       "      <th>71</th>\n",
       "      <td>Algeria</td>\n",
       "      <td>18609.930675</td>\n",
       "      <td>0.754</td>\n",
       "    </tr>\n",
       "    <tr>\n",
       "      <th>89</th>\n",
       "      <td>Andorra</td>\n",
       "      <td>79.712280</td>\n",
       "      <td>0.858</td>\n",
       "    </tr>\n",
       "    <tr>\n",
       "      <th>108</th>\n",
       "      <td>Angola</td>\n",
       "      <td>8810.716924</td>\n",
       "      <td>0.581</td>\n",
       "    </tr>\n",
       "  </tbody>\n",
       "</table>\n",
       "</div>"
      ],
      "text/plain": [
       "         Country  Smoking (deaths)    HDI\n",
       "15   Afghanistan       9241.250845  0.498\n",
       "43       Albania       4161.156448  0.785\n",
       "71       Algeria      18609.930675  0.754\n",
       "89       Andorra         79.712280  0.858\n",
       "108       Angola       8810.716924  0.581"
      ]
     },
     "execution_count": 20,
     "metadata": {},
     "output_type": "execute_result"
    }
   ],
   "source": [
    "# Get the number of deaths due to smoking and their HDI in 2017\n",
    "deaths_hdi_smoking_2017_df = deaths_hdi_df.loc[deaths_hdi_df['Year'] == 2017, ['Country', 'Smoking (deaths)', 'HDI']]\n",
    "deaths_hdi_smoking_2017_df.head()"
   ]
  },
  {
   "cell_type": "markdown",
   "metadata": {
    "id": "ngXP0mmj_TFC"
   },
   "source": [
    "The resulting data consists of 185 observations. Before determining the country with the lowest deaths due to smoking, the next lines of code visualize the number of deaths due to smoking using a box plot. This visually determines the dispersion and distribution of the data."
   ]
  },
  {
   "cell_type": "code",
   "execution_count": 21,
   "metadata": {
    "colab": {
     "base_uri": "https://localhost:8080/",
     "height": 602
    },
    "id": "dRzg-Ztt_WNY",
    "outputId": "fc0971cb-5f76-4b1d-9e1e-af1f161737db"
   },
   "outputs": [
    {
     "data": {
      "image/png": "[encoded data removed]",
      "text/plain": [
       "<Figure size 144x720 with 1 Axes>"
      ]
     },
     "metadata": {
      "needs_background": "light"
     },
     "output_type": "display_data"
    }
   ],
   "source": [
    "deaths_hdi_smoking_2017_df.boxplot('Smoking (deaths)', figsize=(2,10))\n",
    "plt.show()"
   ]
  },
  {
   "cell_type": "markdown",
   "metadata": {
    "id": "Wxv7NNNR_ZNU"
   },
   "source": [
    "The circles in the diagram represent the suspected outliers in the data. Some are even too far from the interquartile range. For example, the farthest outlier from the IQR represents the country with the highest deaths due to smoking, exceeding 2 million deaths."
   ]
  },
  {
   "cell_type": "code",
   "execution_count": 22,
   "metadata": {
    "colab": {
     "base_uri": "https://localhost:8080/",
     "height": 204
    },
    "id": "MlqlS80g_bFc",
    "outputId": "7ef4ddae-bb0b-46e0-ee65-2f068ad7a1da"
   },
   "outputs": [
    {
     "data": {
      "text/html": [
       "<div>\n",
       "<style scoped>\n",
       "    .dataframe tbody tr th:only-of-type {\n",
       "        vertical-align: middle;\n",
       "    }\n",
       "\n",
       "    .dataframe tbody tr th {\n",
       "        vertical-align: top;\n",
       "    }\n",
       "\n",
       "    .dataframe thead th {\n",
       "        text-align: right;\n",
       "    }\n",
       "</style>\n",
       "<table border=\"1\" class=\"dataframe\">\n",
       "  <thead>\n",
       "    <tr style=\"text-align: right;\">\n",
       "      <th></th>\n",
       "      <th>Country</th>\n",
       "      <th>Smoking (deaths)</th>\n",
       "      <th>HDI</th>\n",
       "    </tr>\n",
       "  </thead>\n",
       "  <tbody>\n",
       "    <tr>\n",
       "      <th>886</th>\n",
       "      <td>China</td>\n",
       "      <td>2.197653e+06</td>\n",
       "      <td>0.752</td>\n",
       "    </tr>\n",
       "    <tr>\n",
       "      <th>1903</th>\n",
       "      <td>India</td>\n",
       "      <td>8.943715e+05</td>\n",
       "      <td>0.640</td>\n",
       "    </tr>\n",
       "    <tr>\n",
       "      <th>4480</th>\n",
       "      <td>United States</td>\n",
       "      <td>4.220113e+05</td>\n",
       "      <td>0.924</td>\n",
       "    </tr>\n",
       "    <tr>\n",
       "      <th>3464</th>\n",
       "      <td>Russia</td>\n",
       "      <td>3.010678e+05</td>\n",
       "      <td>0.816</td>\n",
       "    </tr>\n",
       "    <tr>\n",
       "      <th>1931</th>\n",
       "      <td>Indonesia</td>\n",
       "      <td>2.274774e+05</td>\n",
       "      <td>0.694</td>\n",
       "    </tr>\n",
       "  </tbody>\n",
       "</table>\n",
       "</div>"
      ],
      "text/plain": [
       "            Country  Smoking (deaths)    HDI\n",
       "886           China      2.197653e+06  0.752\n",
       "1903          India      8.943715e+05  0.640\n",
       "4480  United States      4.220113e+05  0.924\n",
       "3464         Russia      3.010678e+05  0.816\n",
       "1931      Indonesia      2.274774e+05  0.694"
      ]
     },
     "execution_count": 22,
     "metadata": {},
     "output_type": "execute_result"
    }
   ],
   "source": [
    "# Sort the dataset according to the number of deaths due to smoking, in descending order\n",
    "deaths_hdi_smoking_2017_df.sort_values('Smoking (deaths)', ascending=False).head()"
   ]
  },
  {
   "cell_type": "markdown",
   "metadata": {
    "id": "9J4oatbx_c9I"
   },
   "source": [
    "Upon sorting the DataFrame according to the number of deaths descendingly, it is revealed that China has the most number of deaths due to smoking in 2017, with only a shy away from 2.2 million. There are several factors that cause the large differences between the observations, which cannot be explained by the current dataset. One possible factor is population, which largely varies according to country. China has one of the largest populations, and this may affect the number of deaths.\n",
    "\n",
    "To determine the country with the lowest number of deaths, the dataset only has to be sorted in ascending order."
   ]
  },
  {
   "cell_type": "code",
   "execution_count": 23,
   "metadata": {
    "colab": {
     "base_uri": "https://localhost:8080/",
     "height": 85
    },
    "id": "d4HBfl18_eQM",
    "outputId": "806577d4-431b-4fee-975b-c772a12dc3c6"
   },
   "outputs": [
    {
     "data": {
      "text/plain": [
       "Country             Sao Tome and Principe\n",
       "Smoking (deaths)                  37.9924\n",
       "HDI                                 0.589\n",
       "Name: 3584, dtype: object"
      ]
     },
     "execution_count": 23,
     "metadata": {},
     "output_type": "execute_result"
    }
   ],
   "source": [
    "# Get the observation with the lowest number of deaths due to smoking\n",
    "deaths_hdi_smoking_2017_df.sort_values('Smoking (deaths)').iloc[0]"
   ]
  },
  {
   "cell_type": "markdown",
   "metadata": {
    "id": "pa1EV4N4_f82"
   },
   "source": [
    "**Answer:** The Central African country *São Tomé and Príncipe* is the country with the lowest number of deaths due to smoking in 2017. In the same year, it has a human development index of 0.589, which belongs to the \"Medium Human Development\" category."
   ]
  },
  {
   "cell_type": "markdown",
   "metadata": {
    "id": "EV5PqO-zz1st"
   },
   "source": [
    "# **III. Research Questions**"
   ]
  },
  {
   "cell_type": "markdown",
   "metadata": {
    "id": "jLtlIKViuc30"
   },
   "source": [
    "## **A. Research Question 1: Clustering Countries by Casualty Count from Diet Issues**"
   ]
  },
  {
   "cell_type": "markdown",
   "metadata": {
    "id": "X3NCk90ueGhA"
   },
   "source": [
    "**Do at least 70% of countries with high to very high human development suffer high casualties from premature death from diet issues in 2017? Do at least 70% of countries with low to medium human development suffer high casualties from premature death from diet issues in 2017?**\n",
    "\n",
    "The goal of this section is to investigate whether there is a high proportion of countries of a given socio-economic class with a high casualty count for diet-related deaths. For this study, we will set the following constraints: a country's total casualty count must belong above the 70th percentile of the normalized data for it to have a high casualty level. Similarly, a country's total casualty count must belong below the 30th percentile of the normalized data for it to have a low casualty level. \n",
    "\n",
    "To answer our research questions, we will be using K-Means clustering. The idea is to group similar countries together based solely on the number of casualties per cause of death, and afterwards, determine the classes of countries grouped together and the number of countries having a given casualty count level. Finally, we will compute the proportion of countries with high casualties to the total number of countries in the given development class to answer our question, and compare our results with that obtained by simple querying. One of the goals of this section is to show an alternative approach to grouping data -- that in this case, countries can be grouped together based on their individual casualties per cause of death rather than its sum. \n",
    "\n",
    "This research question is important to the community, because diet and food comprise a very important part of human life -- we eat every day, multiple times in a day. Knowing if a large proportion of countries of a given development class suffers from death from diet issues can allow us to investigate the eating habits of that class better, and form recommendations about improving health and being wise about diet choices. \n",
    "\n",
    "Before we begin, shown below is a summary of the steps to achieve our goal:\n",
    "1. Filter the dataset by cases that occurred in 2017.\n",
    "2. Normalize all data\n",
    "3. Create bins with thresholds at the 30th and 70th percentiles\n",
    "4. Perform clustering\n",
    "5. Check the number of countries of a given class with its casualty level in each cluster.\n",
    "6. Compute for the proportion of countries with a high casualty count for a given class against the total number of countries of said class, and determine if it is at least 70%."
   ]
  },
  {
   "cell_type": "markdown",
   "metadata": {
    "id": "TqeJO63PJtGZ"
   },
   "source": [
    "\n",
    "## **B. Research Question 2: Hypothesis Testing**\n"
   ]
  },
  {
   "cell_type": "markdown",
   "metadata": {
    "id": "QSMsSuQUeDWq"
   },
   "source": [
    "**Is there a significant difference between the number of deaths caused by smoking in countries with high to very high human development and countries with low to medium human development**\n",
    "\n",
    "This question is of interest to us because through this, we will be able to investigate whether or not the human development index (HDI) is a statistically significant factor in the number of deaths in a country due to a certain cause. For this question, we decided to choose smoking as the cause of death.\n"
   ]
  },
  {
   "cell_type": "markdown",
   "metadata": {
    "id": "vheSKBKhd9Ls"
   },
   "source": [
    "Based on the research question, an unpaired $t$-test would be a possible method for a statistical inference, but due to the dataset not being normally distributed and containing some outliers, an alternative test to the unpaired $t$-test will be done.\n",
    "\n",
    "One example of an alternative test to the unpaired $t$-test is the Mann-Whitney test. It is a non-parametric alternative to the unpaired two-samples t-test, which can be used to compare two independent groups of samples. The term non-parametric in this context means that the test statistic only depends on the ranks of the observations in the combined sample, and no assumption about the distribution of the populations is made.\n",
    "\n",
    "Another alternative test to the $t$-test is the Kruskal-Wallis test, but we did not choose this test because the main difference between the Kruskal-Wallis and the Mann-Whitney is that the former can perform tests on more than 2 samples, while the latter only tests on 2 samples. In this research question, because we are only testing on 2 samples, so using the Mann-Whitney test is appropriate.\n",
    "\n",
    "\n",
    "Source: [STHDA](http://www.sthda.com/english/wiki/unpaired-two-samples-wilcoxon-test-in-r#:~:text=The%20unpaired%20two%2Dsamples%20Wilcoxon,data%20are%20not%20normally%20distributed)"
   ]
  },
  {
   "cell_type": "markdown",
   "metadata": {
    "id": "u6t1Ig8xz11R"
   },
   "source": [
    "# **IV. Data Modelling**"
   ]
  },
  {
   "cell_type": "markdown",
   "metadata": {
    "id": "0D7_Zuerz14Q"
   },
   "source": [
    "## **A. Research Question 1: Clustering Countries by Casualty Count from Diet Issues**"
   ]
  },
  {
   "cell_type": "markdown",
   "metadata": {
    "id": "auE6qBGSgRMg"
   },
   "source": [
    "The research questions for this section are as follows:\n",
    "\n",
    "\"Do at least 70% of countries with high to very high human development suffer high casualties from premature death from diet issues in 2017? Do at least 70% of countries with low to medium human development suffer high casualties from premature death from diet issues in 2017?\""
   ]
  },
  {
   "cell_type": "markdown",
   "metadata": {
    "id": "j7OGk8OvUnCo"
   },
   "source": [
    "### **Filtering the dataset by cases that occurred in 2017.**\n",
    "\n",
    "Let's remove all entries whose year is not 2017 and merge with the HDI dataset."
   ]
  },
  {
   "cell_type": "code",
   "execution_count": 24,
   "metadata": {
    "id": "qoHFV4CnUyUr"
   },
   "outputs": [],
   "source": [
    "deaths_hdi_diet_df = pd.merge(deaths_diet_df, hdi_df, on=['Year', 'Country'])\n",
    "deaths_hdi_diet_df = deaths_hdi_diet_df[deaths_hdi_diet_df['Year'] == 2017] "
   ]
  },
  {
   "cell_type": "markdown",
   "metadata": {
    "id": "DEQqiWRF93Xc"
   },
   "source": [
    "Now, let us create a new column called \"Development Level\", which allows us to classify our countries by its HDI as of 2017."
   ]
  },
  {
   "cell_type": "code",
   "execution_count": 25,
   "metadata": {
    "id": "uWLtaSNyAZUR"
   },
   "outputs": [],
   "source": [
    "deaths_hdi_diet_df['Development Level'] = np.where(deaths_hdi_diet_df['HDI'] > 0.699, 'High to Very High', 'Low to Very Low')"
   ]
  },
  {
   "cell_type": "markdown",
   "metadata": {
    "id": "iCD9kwVTVN35"
   },
   "source": [
    "### **Normalizing our data**\n",
    "Before we proceed with clustering, let us first normalize our data. A closer inspection of our data's distribution shows that it is skewed heavily to the right. Also, different countries have different population sizes, which requires us to standardize our data such that this is not a concern.\n"
   ]
  },
  {
   "cell_type": "markdown",
   "metadata": {
    "id": "yc8fSHTB0Cuz"
   },
   "source": [
    "Let us view the distributions of our data:"
   ]
  },
  {
   "cell_type": "code",
   "execution_count": 26,
   "metadata": {
    "colab": {
     "base_uri": "https://localhost:8080/",
     "height": 281
    },
    "id": "-T5TwX510Bkv",
    "outputId": "34f02c53-7650-4201-91c2-2aa635b9a625"
   },
   "outputs": [
    {
     "data": {
      "image/png": "[encoded data removed]",
      "text/plain": [
       "<Figure size 432x288 with 20 Axes>"
      ]
     },
     "metadata": {
      "needs_background": "light"
     },
     "output_type": "display_data"
    }
   ],
   "source": [
    "deaths_hdi_diet_df.iloc[:, 2:19].hist()\n",
    "plt.show()"
   ]
  },
  {
   "cell_type": "markdown",
   "metadata": {
    "id": "coNUDLOI1Ule"
   },
   "source": [
    "The distributions look the same. Let's take one of the columns and view its distribution for better viewing."
   ]
  },
  {
   "cell_type": "code",
   "execution_count": 27,
   "metadata": {
    "colab": {
     "base_uri": "https://localhost:8080/",
     "height": 282
    },
    "id": "KOS_RvmT1egZ",
    "outputId": "684821fe-ce4f-4bc7-ca74-485792f44b9d"
   },
   "outputs": [
    {
     "data": {
      "text/plain": [
       "<matplotlib.axes._subplots.AxesSubplot at 0x10e87eed0>"
      ]
     },
     "execution_count": 27,
     "metadata": {},
     "output_type": "execute_result"
    },
    {
     "data": {
      "image/png": "[encoded data removed]",
      "text/plain": [
       "<Figure size 432x288 with 1 Axes>"
      ]
     },
     "metadata": {
      "needs_background": "light"
     },
     "output_type": "display_data"
    }
   ],
   "source": [
    "deaths_hdi_diet_df.loc[:, 'Diet low in fruits (deaths)'].plot(kind='hist', bins=30)"
   ]
  },
  {
   "cell_type": "markdown",
   "metadata": {
    "id": "vKYpPsKo194-"
   },
   "source": [
    "As we can see, the distribution is heavily skewed to the right. Let us normalize our data to prevent problems in clustering."
   ]
  },
  {
   "cell_type": "markdown",
   "metadata": {
    "id": "7Gjrw4bM2KW4"
   },
   "source": [
    "To normalize, we will use scikit-learn, which is a popular Python library used for machine learning and data science. We will be using this library for preprocessing and clustering. \n",
    "\n",
    "Scikit-learn has numerous methods for preprocessing, such as the StandardScaler, Normalizer, MinMaxScaler, and QuantileTransformer. For this section, we will be using the QuantileTransformer, as it has the ability to map existing data to a given distribution. The QuantileTransformer is based on quantile functions, which are defined as the inverse of a probability distribution. If a probability distribution shows the probability of an observation at or below a value, a quantile function returns the value itself given the probability. \n",
    "\n",
    "In this case, we will map our data to a Gaussian distribution. "
   ]
  },
  {
   "cell_type": "code",
   "execution_count": 28,
   "metadata": {
    "colab": {
     "base_uri": "https://localhost:8080/",
     "height": 71
    },
    "id": "EF7kKiJFVWV2",
    "outputId": "b6f79407-662d-498a-f7c1-ae78b15872b8"
   },
   "outputs": [
    {
     "name": "stderr",
     "output_type": "stream",
     "text": [
      "/Users/dumpling/anaconda3/lib/python3.7/site-packages/sklearn/preprocessing/_data.py:2357: UserWarning: n_quantiles (1000) is greater than the total number of samples (185). n_quantiles is set to n_samples.\n",
      "  % (self.n_quantiles, n_samples))\n"
     ]
    }
   ],
   "source": [
    "from sklearn import preprocessing\n",
    "\n",
    "# Set indices to 0, 1, 2,... \n",
    "deaths_hdi_diet_df = deaths_hdi_diet_df.reset_index(drop=True)\n",
    "\n",
    "# Normalize the data\n",
    "normalized = preprocessing.QuantileTransformer(output_distribution='normal').fit_transform(deaths_hdi_diet_df.iloc[:, 2:19])\n",
    "\n",
    "# Create a new dataframe\n",
    "deaths_df_normalized = pd.DataFrame(normalized, columns=deaths_hdi_diet_df.iloc[:, 2:19].columns)"
   ]
  },
  {
   "cell_type": "markdown",
   "metadata": {
    "id": "gZ3_VVhg3f6W"
   },
   "source": [
    "Let's take a look at our normalized columns."
   ]
  },
  {
   "cell_type": "code",
   "execution_count": 29,
   "metadata": {
    "colab": {
     "base_uri": "https://localhost:8080/",
     "height": 281
    },
    "id": "vlFNqwJ-3jVA",
    "outputId": "4942d854-de3a-4057-b029-bb03915b7208"
   },
   "outputs": [
    {
     "data": {
      "image/png": "[encoded data removed]",
      "text/plain": [
       "<Figure size 432x288 with 16 Axes>"
      ]
     },
     "metadata": {
      "needs_background": "light"
     },
     "output_type": "display_data"
    }
   ],
   "source": [
    "deaths_df_normalized.iloc[:, 2:19].hist()\n",
    "plt.show()"
   ]
  },
  {
   "cell_type": "code",
   "execution_count": 30,
   "metadata": {
    "colab": {
     "base_uri": "https://localhost:8080/",
     "height": 282
    },
    "id": "9cttE1Zm3ogW",
    "outputId": "c25d7a86-fbdb-4d2b-fb35-e1365d9813db"
   },
   "outputs": [
    {
     "data": {
      "text/plain": [
       "<matplotlib.axes._subplots.AxesSubplot at 0x118e12fd0>"
      ]
     },
     "execution_count": 30,
     "metadata": {},
     "output_type": "execute_result"
    },
    {
     "data": {
      "image/png": "[encoded data removed]",
      "text/plain": [
       "<Figure size 432x288 with 1 Axes>"
      ]
     },
     "metadata": {
      "needs_background": "light"
     },
     "output_type": "display_data"
    }
   ],
   "source": [
    "deaths_df_normalized.loc[:, 'Diet low in fruits (deaths)'].plot(kind='hist', bins=30)"
   ]
  },
  {
   "cell_type": "markdown",
   "metadata": {
    "id": "_wVOXnzB4P-E"
   },
   "source": [
    "Our data now approximates the Normal Distribution. We can now proceed."
   ]
  },
  {
   "cell_type": "markdown",
   "metadata": {
    "id": "b-NF6dS-V--r"
   },
   "source": [
    "### **Clustering our data**\n",
    "Now, let us cluster our data using the K-Means algorithm. K-Means is an algorithm used to classify and group observations based on their similarity from their features. We will use scikit-learn's KMeans library to perform this. Its constructor allows us to define the number of clusters and its centroid initialization method. In this case, we will use three clusters and a random centroid initialization. In this block of code, the algorithm assigns a group number for each country, denoting its cluster.\n",
    "\n",
    "Note that for this part, we will only be using the columns related to casualty count to verify whether countries of a given casualty level really do belong together from their individual cases.\n"
   ]
  },
  {
   "cell_type": "code",
   "execution_count": 31,
   "metadata": {
    "id": "vUEkhD0IWS93"
   },
   "outputs": [],
   "source": [
    "from sklearn.cluster import KMeans\n",
    "groups = KMeans(n_clusters=3, init='random').fit_predict(deaths_df_normalized.iloc[:, 0:16])"
   ]
  },
  {
   "cell_type": "markdown",
   "metadata": {
    "id": "W_YdQ1VuVdxx"
   },
   "source": [
    "### **Defining our thresholds**\n",
    "Now, let us define the bins (or thresholds) for our data. As mentioned before, a country has a low casualty level if the sum of its cases fall below the 30th percentile, and a high casualty level if its cases fall above the 70th percentile. The idea is to remove cases that tend to cluster around the 50th percentile of the data. We will add a new column called \"Casualty Level\" for this."
   ]
  },
  {
   "cell_type": "code",
   "execution_count": 32,
   "metadata": {
    "colab": {
     "base_uri": "https://localhost:8080/",
     "height": 326
    },
    "id": "XN1j_2_vVl8N",
    "outputId": "dc73cc5c-a4ec-48d7-d929-e5bfc0de8f40"
   },
   "outputs": [
    {
     "data": {
      "text/html": [
       "<div>\n",
       "<style scoped>\n",
       "    .dataframe tbody tr th:only-of-type {\n",
       "        vertical-align: middle;\n",
       "    }\n",
       "\n",
       "    .dataframe tbody tr th {\n",
       "        vertical-align: top;\n",
       "    }\n",
       "\n",
       "    .dataframe thead th {\n",
       "        text-align: right;\n",
       "    }\n",
       "</style>\n",
       "<table border=\"1\" class=\"dataframe\">\n",
       "  <thead>\n",
       "    <tr style=\"text-align: right;\">\n",
       "      <th></th>\n",
       "      <th>Diet low in fruits (deaths)</th>\n",
       "      <th>Diet low in vegetables (deaths)</th>\n",
       "      <th>High blood sugar (deaths)</th>\n",
       "      <th>Obesity (deaths)</th>\n",
       "      <th>Iron deficiency (deaths)</th>\n",
       "      <th>Zinc deficiency (deaths)</th>\n",
       "      <th>Vitamin-A deficiency (deaths)</th>\n",
       "      <th>Low bone mineral density (deaths)</th>\n",
       "      <th>Diet low in fiber (deaths)</th>\n",
       "      <th>Diet high in sodium (deaths)</th>\n",
       "      <th>Diet low in legumes (deaths)</th>\n",
       "      <th>Diet low in calcium (deaths)</th>\n",
       "      <th>Diet high in red meat (deaths)</th>\n",
       "      <th>Diet low in whole grains (deaths)</th>\n",
       "      <th>Diet low in nuts and seeds (deaths)</th>\n",
       "      <th>Diet low in seafood omega-3 fatty acids (deaths)</th>\n",
       "    </tr>\n",
       "  </thead>\n",
       "  <tbody>\n",
       "    <tr>\n",
       "      <th>0</th>\n",
       "      <td>1.074478</td>\n",
       "      <td>1.204851</td>\n",
       "      <td>0.837745</td>\n",
       "      <td>0.818550</td>\n",
       "      <td>1.655485</td>\n",
       "      <td>1.773856</td>\n",
       "      <td>1.655485</td>\n",
       "      <td>0.376532</td>\n",
       "      <td>1.124338</td>\n",
       "      <td>0.527529</td>\n",
       "      <td>1.263188</td>\n",
       "      <td>0.450744</td>\n",
       "      <td>-0.877095</td>\n",
       "      <td>1.004335</td>\n",
       "      <td>0.877095</td>\n",
       "      <td>1.050522</td>\n",
       "    </tr>\n",
       "    <tr>\n",
       "      <th>1</th>\n",
       "      <td>-0.465876</td>\n",
       "      <td>-0.960196</td>\n",
       "      <td>-0.575109</td>\n",
       "      <td>-0.405946</td>\n",
       "      <td>-0.982026</td>\n",
       "      <td>-0.376532</td>\n",
       "      <td>-0.191893</td>\n",
       "      <td>-0.640667</td>\n",
       "      <td>-0.205788</td>\n",
       "      <td>0.027249</td>\n",
       "      <td>0.109200</td>\n",
       "      <td>-0.799651</td>\n",
       "      <td>0.304339</td>\n",
       "      <td>-0.136654</td>\n",
       "      <td>-0.304339</td>\n",
       "      <td>-0.219723</td>\n",
       "    </tr>\n",
       "    <tr>\n",
       "      <th>2</th>\n",
       "      <td>0.799651</td>\n",
       "      <td>0.781034</td>\n",
       "      <td>0.938814</td>\n",
       "      <td>1.027154</td>\n",
       "      <td>0.591258</td>\n",
       "      <td>0.318639</td>\n",
       "      <td>0.318639</td>\n",
       "      <td>0.527529</td>\n",
       "      <td>0.744586</td>\n",
       "      <td>0.691693</td>\n",
       "      <td>0.982026</td>\n",
       "      <td>0.575109</td>\n",
       "      <td>-0.674490</td>\n",
       "      <td>1.074478</td>\n",
       "      <td>1.074478</td>\n",
       "      <td>1.150349</td>\n",
       "    </tr>\n",
       "    <tr>\n",
       "      <th>3</th>\n",
       "      <td>-2.546864</td>\n",
       "      <td>-2.546864</td>\n",
       "      <td>-5.199338</td>\n",
       "      <td>-5.199338</td>\n",
       "      <td>-5.199338</td>\n",
       "      <td>-5.199338</td>\n",
       "      <td>-5.199338</td>\n",
       "      <td>-1.556601</td>\n",
       "      <td>-1.924054</td>\n",
       "      <td>-2.294895</td>\n",
       "      <td>-1.263188</td>\n",
       "      <td>-1.924054</td>\n",
       "      <td>0.040880</td>\n",
       "      <td>-5.199338</td>\n",
       "      <td>-5.199338</td>\n",
       "      <td>-5.199338</td>\n",
       "    </tr>\n",
       "    <tr>\n",
       "      <th>4</th>\n",
       "      <td>0.191893</td>\n",
       "      <td>0.376532</td>\n",
       "      <td>0.347440</td>\n",
       "      <td>0.081829</td>\n",
       "      <td>1.294038</td>\n",
       "      <td>1.604083</td>\n",
       "      <td>1.604083</td>\n",
       "      <td>0.261797</td>\n",
       "      <td>0.000000</td>\n",
       "      <td>0.068168</td>\n",
       "      <td>-0.290101</td>\n",
       "      <td>0.219723</td>\n",
       "      <td>0.219723</td>\n",
       "      <td>0.205788</td>\n",
       "      <td>0.178035</td>\n",
       "      <td>0.109200</td>\n",
       "    </tr>\n",
       "  </tbody>\n",
       "</table>\n",
       "</div>"
      ],
      "text/plain": [
       "   Diet low in fruits (deaths)  Diet low in vegetables (deaths)  \\\n",
       "0                     1.074478                         1.204851   \n",
       "1                    -0.465876                        -0.960196   \n",
       "2                     0.799651                         0.781034   \n",
       "3                    -2.546864                        -2.546864   \n",
       "4                     0.191893                         0.376532   \n",
       "\n",
       "   High blood sugar (deaths)  Obesity (deaths)  Iron deficiency (deaths)  \\\n",
       "0                   0.837745          0.818550                  1.655485   \n",
       "1                  -0.575109         -0.405946                 -0.982026   \n",
       "2                   0.938814          1.027154                  0.591258   \n",
       "3                  -5.199338         -5.199338                 -5.199338   \n",
       "4                   0.347440          0.081829                  1.294038   \n",
       "\n",
       "   Zinc deficiency (deaths)  Vitamin-A deficiency (deaths)  \\\n",
       "0                  1.773856                       1.655485   \n",
       "1                 -0.376532                      -0.191893   \n",
       "2                  0.318639                       0.318639   \n",
       "3                 -5.199338                      -5.199338   \n",
       "4                  1.604083                       1.604083   \n",
       "\n",
       "   Low bone mineral density (deaths)  Diet low in fiber (deaths)  \\\n",
       "0                           0.376532                    1.124338   \n",
       "1                          -0.640667                   -0.205788   \n",
       "2                           0.527529                    0.744586   \n",
       "3                          -1.556601                   -1.924054   \n",
       "4                           0.261797                    0.000000   \n",
       "\n",
       "   Diet high in sodium (deaths)  Diet low in legumes (deaths)  \\\n",
       "0                      0.527529                      1.263188   \n",
       "1                      0.027249                      0.109200   \n",
       "2                      0.691693                      0.982026   \n",
       "3                     -2.294895                     -1.263188   \n",
       "4                      0.068168                     -0.290101   \n",
       "\n",
       "   Diet low in calcium (deaths)  Diet high in red meat (deaths)  \\\n",
       "0                      0.450744                       -0.877095   \n",
       "1                     -0.799651                        0.304339   \n",
       "2                      0.575109                       -0.674490   \n",
       "3                     -1.924054                        0.040880   \n",
       "4                      0.219723                        0.219723   \n",
       "\n",
       "   Diet low in whole grains (deaths)  Diet low in nuts and seeds (deaths)  \\\n",
       "0                           1.004335                             0.877095   \n",
       "1                          -0.136654                            -0.304339   \n",
       "2                           1.074478                             1.074478   \n",
       "3                          -5.199338                            -5.199338   \n",
       "4                           0.205788                             0.178035   \n",
       "\n",
       "   Diet low in seafood omega-3 fatty acids (deaths)  \n",
       "0                                          1.050522  \n",
       "1                                         -0.219723  \n",
       "2                                          1.150349  \n",
       "3                                         -5.199338  \n",
       "4                                          0.109200  "
      ]
     },
     "execution_count": 32,
     "metadata": {},
     "output_type": "execute_result"
    }
   ],
   "source": [
    "lo, hi = np.percentile(deaths_df_normalized['Diet Issues'], [30, 70])\n",
    "\n",
    "# Define a function that returns the class given a casualty value\n",
    "def get_class(row): \n",
    "    if row < lo:\n",
    "        return 'high'\n",
    "    elif (row >= lo) & (row < hi):\n",
    "        return 'mid'\n",
    "    else: \n",
    "        return 'low'\n",
    "\n",
    "deaths_df_normalized['Casualty Level'] = deaths_df_normalized['Diet Issues'].apply(get_class)\n",
    "deaths_df_normalized['Development Level'] = deaths_hdi_diet_df['Development Level']\n",
    "deaths_df_normalized.iloc[:, 0:16].head()"
   ]
  },
  {
   "cell_type": "markdown",
   "metadata": {
    "id": "5aOHirC4Wm1O"
   },
   "source": [
    "### **Inspecting the clusters**\n",
    "Now that we have clustered our data, let us inspect our clusters to see the casualty levels each development level contains"
   ]
  },
  {
   "cell_type": "markdown",
   "metadata": {
    "id": "IoxbAJtDaSnJ"
   },
   "source": [
    "Let's check the casualty levels for countries with high to very high development:"
   ]
  },
  {
   "cell_type": "code",
   "execution_count": 33,
   "metadata": {
    "id": "0pQg3_mIDZ3i"
   },
   "outputs": [],
   "source": [
    "cluster_0 = deaths_df_normalized.loc[groups == 0]\n",
    "cluster_1 = deaths_df_normalized.loc[groups == 1]\n",
    "cluster_2 = deaths_df_normalized.loc[groups == 2]"
   ]
  },
  {
   "cell_type": "code",
   "execution_count": 34,
   "metadata": {
    "colab": {
     "base_uri": "https://localhost:8080/",
     "height": 190
    },
    "id": "YgwbY6O0DbQv",
    "outputId": "9fd6590c-6274-4561-b49f-430c68f131d0"
   },
   "outputs": [
    {
     "name": "stdout",
     "output_type": "stream",
     "text": [
      "Cluster 0:\n"
     ]
    },
    {
     "data": {
      "text/html": [
       "<div>\n",
       "<style scoped>\n",
       "    .dataframe tbody tr th:only-of-type {\n",
       "        vertical-align: middle;\n",
       "    }\n",
       "\n",
       "    .dataframe tbody tr th {\n",
       "        vertical-align: top;\n",
       "    }\n",
       "\n",
       "    .dataframe thead th {\n",
       "        text-align: right;\n",
       "    }\n",
       "</style>\n",
       "<table border=\"1\" class=\"dataframe\">\n",
       "  <thead>\n",
       "    <tr style=\"text-align: right;\">\n",
       "      <th></th>\n",
       "      <th></th>\n",
       "      <th>Diet Issues</th>\n",
       "    </tr>\n",
       "    <tr>\n",
       "      <th>Development Level</th>\n",
       "      <th>Casualty Level</th>\n",
       "      <th></th>\n",
       "    </tr>\n",
       "  </thead>\n",
       "  <tbody>\n",
       "    <tr>\n",
       "      <th rowspan=\"2\" valign=\"top\">High to Very High</th>\n",
       "      <th>low</th>\n",
       "      <td>34</td>\n",
       "    </tr>\n",
       "    <tr>\n",
       "      <th>mid</th>\n",
       "      <td>1</td>\n",
       "    </tr>\n",
       "    <tr>\n",
       "      <th>Low to Very Low</th>\n",
       "      <th>low</th>\n",
       "      <td>15</td>\n",
       "    </tr>\n",
       "  </tbody>\n",
       "</table>\n",
       "</div>"
      ],
      "text/plain": [
       "                                  Diet Issues\n",
       "Development Level Casualty Level             \n",
       "High to Very High low                      34\n",
       "                  mid                       1\n",
       "Low to Very Low   low                      15"
      ]
     },
     "execution_count": 34,
     "metadata": {},
     "output_type": "execute_result"
    }
   ],
   "source": [
    "print('Cluster 0:')\n",
    "pd.DataFrame(cluster_0.groupby(['Development Level', 'Casualty Level'])['Diet Issues'].count())"
   ]
  },
  {
   "cell_type": "code",
   "execution_count": 35,
   "metadata": {
    "colab": {
     "base_uri": "https://localhost:8080/",
     "height": 159
    },
    "id": "U9CV7bjXE-Bh",
    "outputId": "3dbc37df-be69-41f2-b383-3b53d1de51ab"
   },
   "outputs": [
    {
     "name": "stdout",
     "output_type": "stream",
     "text": [
      "Cluster 1:\n"
     ]
    },
    {
     "data": {
      "text/html": [
       "<div>\n",
       "<style scoped>\n",
       "    .dataframe tbody tr th:only-of-type {\n",
       "        vertical-align: middle;\n",
       "    }\n",
       "\n",
       "    .dataframe tbody tr th {\n",
       "        vertical-align: top;\n",
       "    }\n",
       "\n",
       "    .dataframe thead th {\n",
       "        text-align: right;\n",
       "    }\n",
       "</style>\n",
       "<table border=\"1\" class=\"dataframe\">\n",
       "  <thead>\n",
       "    <tr style=\"text-align: right;\">\n",
       "      <th></th>\n",
       "      <th></th>\n",
       "      <th>Diet Issues</th>\n",
       "    </tr>\n",
       "    <tr>\n",
       "      <th>Development Level</th>\n",
       "      <th>Casualty Level</th>\n",
       "      <th></th>\n",
       "    </tr>\n",
       "  </thead>\n",
       "  <tbody>\n",
       "    <tr>\n",
       "      <th>High to Very High</th>\n",
       "      <th>high</th>\n",
       "      <td>25</td>\n",
       "    </tr>\n",
       "    <tr>\n",
       "      <th>Low to Very Low</th>\n",
       "      <th>high</th>\n",
       "      <td>12</td>\n",
       "    </tr>\n",
       "  </tbody>\n",
       "</table>\n",
       "</div>"
      ],
      "text/plain": [
       "                                  Diet Issues\n",
       "Development Level Casualty Level             \n",
       "High to Very High high                     25\n",
       "Low to Very Low   high                     12"
      ]
     },
     "execution_count": 35,
     "metadata": {},
     "output_type": "execute_result"
    }
   ],
   "source": [
    "print('Cluster 1:')\n",
    "pd.DataFrame(cluster_1.groupby(['Development Level', 'Casualty Level'])['Diet Issues'].count())"
   ]
  },
  {
   "cell_type": "code",
   "execution_count": 36,
   "metadata": {
    "colab": {
     "base_uri": "https://localhost:8080/",
     "height": 283
    },
    "id": "VPX2m-XvFFFw",
    "outputId": "e5c86e55-450e-4876-c33d-8d001dbc35a2"
   },
   "outputs": [
    {
     "name": "stdout",
     "output_type": "stream",
     "text": [
      "Cluster 2:\n"
     ]
    },
    {
     "data": {
      "text/html": [
       "<div>\n",
       "<style scoped>\n",
       "    .dataframe tbody tr th:only-of-type {\n",
       "        vertical-align: middle;\n",
       "    }\n",
       "\n",
       "    .dataframe tbody tr th {\n",
       "        vertical-align: top;\n",
       "    }\n",
       "\n",
       "    .dataframe thead th {\n",
       "        text-align: right;\n",
       "    }\n",
       "</style>\n",
       "<table border=\"1\" class=\"dataframe\">\n",
       "  <thead>\n",
       "    <tr style=\"text-align: right;\">\n",
       "      <th></th>\n",
       "      <th></th>\n",
       "      <th>Diet Issues</th>\n",
       "    </tr>\n",
       "    <tr>\n",
       "      <th>Development Level</th>\n",
       "      <th>Casualty Level</th>\n",
       "      <th></th>\n",
       "    </tr>\n",
       "  </thead>\n",
       "  <tbody>\n",
       "    <tr>\n",
       "      <th rowspan=\"3\" valign=\"top\">High to Very High</th>\n",
       "      <th>high</th>\n",
       "      <td>10</td>\n",
       "    </tr>\n",
       "    <tr>\n",
       "      <th>low</th>\n",
       "      <td>3</td>\n",
       "    </tr>\n",
       "    <tr>\n",
       "      <th>mid</th>\n",
       "      <td>37</td>\n",
       "    </tr>\n",
       "    <tr>\n",
       "      <th rowspan=\"3\" valign=\"top\">Low to Very Low</th>\n",
       "      <th>high</th>\n",
       "      <td>9</td>\n",
       "    </tr>\n",
       "    <tr>\n",
       "      <th>low</th>\n",
       "      <td>4</td>\n",
       "    </tr>\n",
       "    <tr>\n",
       "      <th>mid</th>\n",
       "      <td>35</td>\n",
       "    </tr>\n",
       "  </tbody>\n",
       "</table>\n",
       "</div>"
      ],
      "text/plain": [
       "                                  Diet Issues\n",
       "Development Level Casualty Level             \n",
       "High to Very High high                     10\n",
       "                  low                       3\n",
       "                  mid                      37\n",
       "Low to Very Low   high                      9\n",
       "                  low                       4\n",
       "                  mid                      35"
      ]
     },
     "execution_count": 36,
     "metadata": {},
     "output_type": "execute_result"
    }
   ],
   "source": [
    "print('Cluster 2:')\n",
    "pd.DataFrame(cluster_2.groupby(['Development Level', 'Casualty Level'])['Diet Issues'].count())"
   ]
  },
  {
   "cell_type": "markdown",
   "metadata": {
    "id": "oU_O3iQpUq1W"
   },
   "source": [
    "### **Computing proportions and verifying our hypothesis**\n",
    "As we can see, each cluster contains a high number of each casualty level. Let us find out whether at least 70% of of highly to very highly developed countries suffer from high casualties from diet issues.\n",
    "Let's do this for the highly to very highly developed countries. For this part, we will compare the proportions computed with normal querying and with clustering."
   ]
  },
  {
   "cell_type": "markdown",
   "metadata": {
    "id": "sVha8s19Zp0u"
   },
   "source": [
    "This part shows the proportion of total number of high cases to the total number of highly developed countries if querying is used."
   ]
  },
  {
   "cell_type": "code",
   "execution_count": 37,
   "metadata": {
    "colab": {
     "base_uri": "https://localhost:8080/",
     "height": 68
    },
    "id": "LdDI9qxuVLP6",
    "outputId": "7106c439-c033-4c95-fbb2-11333b6a1536"
   },
   "outputs": [
    {
     "name": "stdout",
     "output_type": "stream",
     "text": [
      "Total number of high cases:  35\n",
      "Total number of highly to very highly developed countries:  110\n",
      "Proportion using queries: 31.82%\n"
     ]
    }
   ],
   "source": [
    "total_high_cases = deaths_df_normalized[(deaths_df_normalized['Development Level'] == 'High to Very High') & \n",
    "                                        (deaths_df_normalized['Casualty Level'] == 'high')].shape[0]\n",
    "\n",
    "total_developed = deaths_df_normalized[deaths_df_normalized['Development Level'] == 'High to Very High'].shape[0]\n",
    "proportion = (total_high_cases / total_developed) * 100\n",
    "\n",
    "print('Total number of high cases: ', total_high_cases)\n",
    "print('Total number of highly to very highly developed countries: ', total_developed)\n",
    "print(f'Proportion using queries: {proportion:.2f}%')"
   ]
  },
  {
   "cell_type": "markdown",
   "metadata": {
    "id": "Oq8q4fz3apae"
   },
   "source": [
    "Let's compare this with the data from our clusters. We will only be looking at the highest number of high cases across the three clusters."
   ]
  },
  {
   "cell_type": "code",
   "execution_count": 38,
   "metadata": {
    "colab": {
     "base_uri": "https://localhost:8080/",
     "height": 68
    },
    "id": "l4bsJHqUbsnC",
    "outputId": "cb8ae4bf-24fe-4f50-e535-faa66f8b4683"
   },
   "outputs": [
    {
     "name": "stdout",
     "output_type": "stream",
     "text": [
      "Max number of high cases from clusters:  25\n",
      "Total number of highly to very highly developed countries:  110\n",
      "Proportion using clusters: 22.73%\n"
     ]
    }
   ],
   "source": [
    "cluster_0_total = cluster_0[(cluster_0['Casualty Level'] == 'high') & \n",
    "                     (cluster_0['Development Level'] == 'High to Very High')].shape[0]\n",
    "\n",
    "cluster_1_total = cluster_1[(cluster_1['Casualty Level'] == 'high') & \n",
    "                     (cluster_1['Development Level'] == 'High to Very High')].shape[0]\n",
    "\n",
    "cluster_2_total = cluster_2[(cluster_2['Casualty Level'] == 'high') & \n",
    "                     (cluster_2['Development Level'] == 'High to Very High')].shape[0]\n",
    "\n",
    "max_high_cases = max(max(cluster_0_total, cluster_1_total), cluster_2_total)\n",
    "total_developed = deaths_df_normalized[deaths_df_normalized['Development Level'] == 'High to Very High'].shape[0]\n",
    "proportion = (max_high_cases / total_developed) * 100\n",
    "\n",
    "print('Max number of high cases from clusters: ', max_high_cases)\n",
    "print('Total number of highly to very highly developed countries: ', total_developed)\n",
    "print(f'Proportion using clusters: {proportion:.2f}%')"
   ]
  },
  {
   "cell_type": "markdown",
   "metadata": {
    "id": "FoRq60DbX-1C"
   },
   "source": [
    "The proportion of casualties **(22.73%)** based on clusters is lower than that which was based on querying **(31.82%)**. Nevertheless, both proportions are lower than the hypothesized proportion of **70%**."
   ]
  },
  {
   "cell_type": "markdown",
   "metadata": {
    "id": "pAKa8qHBbJuR"
   },
   "source": [
    "Let's take a look at the lowly to very lowly developed countries:"
   ]
  },
  {
   "cell_type": "code",
   "execution_count": 39,
   "metadata": {
    "colab": {
     "base_uri": "https://localhost:8080/",
     "height": 68
    },
    "id": "93XsGxxrc6tM",
    "outputId": "baef63f0-b3a0-4dc9-e6e8-600ab6e891a7"
   },
   "outputs": [
    {
     "name": "stdout",
     "output_type": "stream",
     "text": [
      "Total number of low cases:  19\n",
      "Total number of lowly to very lowly developed countries:  75\n",
      "Proportion using queries: 25.33%\n"
     ]
    }
   ],
   "source": [
    "total_low_cases = deaths_df_normalized[(deaths_df_normalized['Development Level'] == 'Low to Very Low') & \n",
    "                                        (deaths_df_normalized['Casualty Level'] == 'low')].shape[0]\n",
    "\n",
    "total_developed = deaths_df_normalized[deaths_df_normalized['Development Level'] == 'Low to Very Low'].shape[0]\n",
    "proportion = (total_low_cases / total_developed) * 100\n",
    "\n",
    "print('Total number of low cases: ', total_low_cases)\n",
    "print('Total number of lowly to very lowly developed countries: ', total_developed)\n",
    "print(f'Proportion using queries: {proportion:.2f}%')"
   ]
  },
  {
   "cell_type": "code",
   "execution_count": 40,
   "metadata": {
    "colab": {
     "base_uri": "https://localhost:8080/",
     "height": 68
    },
    "id": "QOBaiDMXbrSu",
    "outputId": "7435b7b8-d386-4964-f57a-8ade1c4f7e21"
   },
   "outputs": [
    {
     "name": "stdout",
     "output_type": "stream",
     "text": [
      "Max number of low cases from clusters:  35\n",
      "Total number of lowly to very lowly developed countries:  75\n",
      "Proportion: 16.00%\n"
     ]
    }
   ],
   "source": [
    "cluster_0_total = cluster_0[(cluster_0['Casualty Level'] == 'high') & \n",
    "                     (cluster_0['Development Level'] == 'Low to Very Low')].shape[0]\n",
    "\n",
    "cluster_1_total = cluster_1[(cluster_1['Casualty Level'] == 'high') & \n",
    "                     (cluster_1['Development Level'] == 'Low to Very Low')].shape[0]\n",
    "\n",
    "cluster_2_total = cluster_2[(cluster_2['Casualty Level'] == 'high') & \n",
    "                     (cluster_2['Development Level'] == 'Low to Very Low')].shape[0]\n",
    "\n",
    "max_low_cases = max(max(cluster_0_total, cluster_1_total), cluster_2_total)\n",
    "total_developed = deaths_df_normalized[deaths_df_normalized['Development Level'] == 'Low to Very Low'].shape[0]\n",
    "proportion = (max_low_cases / total_developed) * 100\n",
    "\n",
    "print('Max number of low cases from clusters: ', total_high_cases)\n",
    "print('Total number of lowly to very lowly developed countries: ', total_developed)\n",
    "print(f'Proportion: {proportion:.2f}%')"
   ]
  },
  {
   "cell_type": "markdown",
   "metadata": {
    "id": "PToI3KZXcAFp"
   },
   "source": [
    "The proportion of casualties **(16%)** based on clusters is lower than that which was based on querying **(25.33%)**. Nevertheless, both proportions are lower than the hypothesized proportion of **70%**."
   ]
  },
  {
   "cell_type": "markdown",
   "metadata": {
    "id": "aCdt3lODWA6q"
   },
   "source": [
    "##**B. Research Question 2: Hypothesis Testing**"
   ]
  },
  {
   "cell_type": "markdown",
   "metadata": {
    "id": "mdggAZRJewuF"
   },
   "source": [
    "The research question for this section is the following:\n",
    "\n",
    "**Is there a significant difference between the number of deaths caused by smoking in countries with high to very high human development and countries with low to medium human development**"
   ]
  },
  {
   "cell_type": "markdown",
   "metadata": {
    "id": "D94Jt-CBk5l7"
   },
   "source": [
    "### **Filtering the dataset by the development level in 2017**"
   ]
  },
  {
   "cell_type": "markdown",
   "metadata": {
    "id": "PzEeMSJrUpA6"
   },
   "source": [
    "We will use a previously filtered dataframe in EDA question 3 for this research question. After that, we will need to add a new column called 'Development Level' so that we can classify each of the countries to either 'High to Very High' and 'Low to Medium'"
   ]
  },
  {
   "cell_type": "code",
   "execution_count": 41,
   "metadata": {
    "id": "oOk4p-wpUaub"
   },
   "outputs": [
    {
     "data": {
      "text/html": [
       "<div>\n",
       "<style scoped>\n",
       "    .dataframe tbody tr th:only-of-type {\n",
       "        vertical-align: middle;\n",
       "    }\n",
       "\n",
       "    .dataframe tbody tr th {\n",
       "        vertical-align: top;\n",
       "    }\n",
       "\n",
       "    .dataframe thead th {\n",
       "        text-align: right;\n",
       "    }\n",
       "</style>\n",
       "<table border=\"1\" class=\"dataframe\">\n",
       "  <thead>\n",
       "    <tr style=\"text-align: right;\">\n",
       "      <th></th>\n",
       "      <th>Country</th>\n",
       "      <th>Smoking (deaths)</th>\n",
       "      <th>HDI</th>\n",
       "      <th>Development Level</th>\n",
       "    </tr>\n",
       "  </thead>\n",
       "  <tbody>\n",
       "    <tr>\n",
       "      <th>15</th>\n",
       "      <td>Afghanistan</td>\n",
       "      <td>9241.250845</td>\n",
       "      <td>0.498</td>\n",
       "      <td>Low to Medium</td>\n",
       "    </tr>\n",
       "    <tr>\n",
       "      <th>43</th>\n",
       "      <td>Albania</td>\n",
       "      <td>4161.156448</td>\n",
       "      <td>0.785</td>\n",
       "      <td>High to Very High</td>\n",
       "    </tr>\n",
       "    <tr>\n",
       "      <th>71</th>\n",
       "      <td>Algeria</td>\n",
       "      <td>18609.930675</td>\n",
       "      <td>0.754</td>\n",
       "      <td>High to Very High</td>\n",
       "    </tr>\n",
       "    <tr>\n",
       "      <th>89</th>\n",
       "      <td>Andorra</td>\n",
       "      <td>79.712280</td>\n",
       "      <td>0.858</td>\n",
       "      <td>High to Very High</td>\n",
       "    </tr>\n",
       "    <tr>\n",
       "      <th>108</th>\n",
       "      <td>Angola</td>\n",
       "      <td>8810.716924</td>\n",
       "      <td>0.581</td>\n",
       "      <td>Low to Medium</td>\n",
       "    </tr>\n",
       "  </tbody>\n",
       "</table>\n",
       "</div>"
      ],
      "text/plain": [
       "         Country  Smoking (deaths)    HDI  Development Level\n",
       "15   Afghanistan       9241.250845  0.498      Low to Medium\n",
       "43       Albania       4161.156448  0.785  High to Very High\n",
       "71       Algeria      18609.930675  0.754  High to Very High\n",
       "89       Andorra         79.712280  0.858  High to Very High\n",
       "108       Angola       8810.716924  0.581      Low to Medium"
      ]
     },
     "execution_count": 41,
     "metadata": {},
     "output_type": "execute_result"
    }
   ],
   "source": [
    "deaths_hdi_smoking_2017_df['Development Level'] = np.where(deaths_hdi_smoking_2017_df['HDI'] > 0.699, 'High to Very High', 'Low to Medium')\n",
    "deaths_hdi_smoking_2017_df.head()"
   ]
  },
  {
   "cell_type": "markdown",
   "metadata": {
    "id": "AP5Q00GpBuB2"
   },
   "source": [
    "Looking at the box plots, it is clear that there are some outliers present in the dataset, and that it is not normally distributed."
   ]
  },
  {
   "cell_type": "code",
   "execution_count": 42,
   "metadata": {
    "id": "7yrCJbf4lMLg"
   },
   "outputs": [
    {
     "data": {
      "image/png": "[encoded data removed]",
      "text/plain": [
       "<Figure size 432x288 with 2 Axes>"
      ]
     },
     "metadata": {
      "needs_background": "light"
     },
     "output_type": "display_data"
    }
   ],
   "source": [
    "deaths_hdi_smoking_2017_df.groupby(\"Development Level\").boxplot(column=\"Smoking (deaths)\")\n",
    "plt.show()"
   ]
  },
  {
   "cell_type": "markdown",
   "metadata": {
    "id": "YD5upu0j-gQT"
   },
   "source": [
    "Looking at the table, the data shows that countries with a high to very high development level have a higher mean, median, and standard deviation compared to the low to medium group, but we are currently unsure if the difference is statistically significant. In order to check this, we shall perform hypothesis testing."
   ]
  },
  {
   "cell_type": "code",
   "execution_count": 43,
   "metadata": {
    "id": "W4ilQAB7o-_E"
   },
   "outputs": [
    {
     "data": {
      "text/html": [
       "<div>\n",
       "<style scoped>\n",
       "    .dataframe tbody tr th:only-of-type {\n",
       "        vertical-align: middle;\n",
       "    }\n",
       "\n",
       "    .dataframe tbody tr th {\n",
       "        vertical-align: top;\n",
       "    }\n",
       "\n",
       "    .dataframe thead tr th {\n",
       "        text-align: left;\n",
       "    }\n",
       "\n",
       "    .dataframe thead tr:last-of-type th {\n",
       "        text-align: right;\n",
       "    }\n",
       "</style>\n",
       "<table border=\"1\" class=\"dataframe\">\n",
       "  <thead>\n",
       "    <tr>\n",
       "      <th></th>\n",
       "      <th colspan=\"4\" halign=\"left\">Smoking (deaths)</th>\n",
       "    </tr>\n",
       "    <tr>\n",
       "      <th></th>\n",
       "      <th>mean</th>\n",
       "      <th>median</th>\n",
       "      <th>std</th>\n",
       "      <th>len</th>\n",
       "    </tr>\n",
       "    <tr>\n",
       "      <th>Development Level</th>\n",
       "      <th></th>\n",
       "      <th></th>\n",
       "      <th></th>\n",
       "      <th></th>\n",
       "    </tr>\n",
       "  </thead>\n",
       "  <tbody>\n",
       "    <tr>\n",
       "      <th>High to Very High</th>\n",
       "      <td>46401.433364</td>\n",
       "      <td>6239.291224</td>\n",
       "      <td>214972.108299</td>\n",
       "      <td>110.0</td>\n",
       "    </tr>\n",
       "    <tr>\n",
       "      <th>Low to Medium</th>\n",
       "      <td>25101.397976</td>\n",
       "      <td>3768.877151</td>\n",
       "      <td>107128.772277</td>\n",
       "      <td>75.0</td>\n",
       "    </tr>\n",
       "  </tbody>\n",
       "</table>\n",
       "</div>"
      ],
      "text/plain": [
       "                  Smoking (deaths)                                   \n",
       "                              mean       median            std    len\n",
       "Development Level                                                    \n",
       "High to Very High     46401.433364  6239.291224  214972.108299  110.0\n",
       "Low to Medium         25101.397976  3768.877151  107128.772277   75.0"
      ]
     },
     "execution_count": 43,
     "metadata": {},
     "output_type": "execute_result"
    }
   ],
   "source": [
    "deaths_hdi_smoking_2017_df.groupby(\"Development Level\").agg({\"Smoking (deaths)\": [\"mean\", \"median\", \"std\", len]})"
   ]
  },
  {
   "cell_type": "markdown",
   "metadata": {
    "id": "uRarxazSlV1e"
   },
   "source": [
    "### **Mann-Whitney Test**"
   ]
  },
  {
   "cell_type": "markdown",
   "metadata": {
    "id": "8_CeZWxL80-S"
   },
   "source": [
    "We set up our hypotheses as follows:\n",
    "\n",
    "$H_0$ (null hypothesis): The true difference is 0.\n",
    "\n",
    "$H_A$ (alternative hypothesis): The true difference is not 0.\n",
    "\n",
    "We assume that the significance level alpha is 0.05."
   ]
  },
  {
   "cell_type": "code",
   "execution_count": 44,
   "metadata": {
    "id": "54TbIa2yVaU8"
   },
   "outputs": [
    {
     "data": {
      "text/plain": [
       "MannwhitneyuResult(statistic=3389.0, pvalue=0.019853237635270898)"
      ]
     },
     "execution_count": 44,
     "metadata": {},
     "output_type": "execute_result"
    }
   ],
   "source": [
    "from scipy import stats\n",
    "\n",
    "stats.mannwhitneyu(deaths_hdi_smoking_2017_df[deaths_hdi_smoking_2017_df[\"Development Level\"] == \"High to Very High\"][\"Smoking (deaths)\"],\n",
    "               deaths_hdi_smoking_2017_df[deaths_hdi_smoking_2017_df[\"Development Level\"] == \"Low to Medium\"][\"Smoking (deaths)\"])"
   ]
  },
  {
   "cell_type": "markdown",
   "metadata": {
    "id": "pFM1VO1QfAm3"
   },
   "source": [
    "Using the Mann-Whitney Test, we were able to test for the p-value.\n",
    "\n",
    "The resulting p-value of the test is 0.019853237635270898."
   ]
  },
  {
   "cell_type": "markdown",
   "metadata": {
    "id": "116jkMY0V3sr"
   },
   "source": [
    "# V. Insights and Conclusions"
   ]
  },
  {
   "cell_type": "markdown",
   "metadata": {
    "id": "wMiYDlO6cOr4"
   },
   "source": [
    "### **A. Research Question 1**"
   ]
  },
  {
   "cell_type": "markdown",
   "metadata": {
    "id": "6wwZJ7r4gJH9"
   },
   "source": [
    "From the results, we see that both development classes of countries have a low proportion of high casualty counts from diet issues. This may tell us that, in 2017, there weren't a lot of alarmingly high diet-related casualties in both highly developed or lowly developed countries. As seen in the results, the number of countries with a \"middle level casualty count\" clustered together was roughly equal to that of those with a high or low level casualty count. However, countries that suffer from high diet issues must be careful about their normal food intake to prevent this problem from worsening. To add, the reason not all countries of the same casualty level were clustered together may have been because said countries may have had similarities in casualty count in specific diet issues, rather than when the sum of all casualties are taken as a whole."
   ]
  },
  {
   "cell_type": "markdown",
   "metadata": {
    "id": "uXnfg9RClf9I"
   },
   "source": [
    "### **B. Research Question 2**"
   ]
  },
  {
   "cell_type": "markdown",
   "metadata": {
    "id": "iA2jEXqrI2Ou"
   },
   "source": [
    "Since the p-value from the Mann-Whitney Test is less than the significance level alpha (0.05), we reject the null hypothesis and we can say that there is a statistically significant difference between the number of deaths caused by smoking in countries with high to very high human development and countries with low to medium human development. Based from the data, we can say that countries having a higher HDI correlates to having a higher number of deaths caused by smoking."
   ]
  }
 ],
 "metadata": {
  "colab": {
   "collapsed_sections": [],
   "name": "[CSMODEL] Case Study on Premature Deaths",
   "provenance": [],
   "toc_visible": true
  },
  "kernelspec": {
   "display_name": "Python 3",
   "language": "python",
   "name": "python3"
  },
  "language_info": {
   "codemirror_mode": {
    "name": "ipython",
    "version": 3
   },
   "file_extension": ".py",
   "mimetype": "text/x-python",
   "name": "python",
   "nbconvert_exporter": "python",
   "pygments_lexer": "ipython3",
   "version": "3.8.5"
  }
 },
 "nbformat": 4,
 "nbformat_minor": 4
}
